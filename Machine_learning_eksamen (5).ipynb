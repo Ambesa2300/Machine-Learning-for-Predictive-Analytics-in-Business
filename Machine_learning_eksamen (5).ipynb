{
 "cells": [
  {
   "cell_type": "markdown",
   "id": "afa77bbf-d7ea-4ce8-a6cb-b38dd508f34a",
   "metadata": {},
   "source": [
    "**Name**: Simon Giles Kristensen \n",
    "\n",
    "**Student ID**: 182414\n",
    "\n",
    "**Course**: CCMVI2085U - Machine Learning for Predictive Analytics in Business  "
   ]
  },
  {
   "cell_type": "markdown",
   "id": "d22fbc1b-68fe-42a2-8ab5-30fa2166554a",
   "metadata": {},
   "source": [
    "## Section 1 Data Loading, Pre-Processing and Visualization 50%"
   ]
  },
  {
   "cell_type": "markdown",
   "id": "50559af3-7f40-43da-9944-5b2ac688e056",
   "metadata": {},
   "source": [
    "### Question 1.1: \n",
    "Import the dataset `used_car_ads.csv` into your Jupyter notebook, name it `df`, and show the last 8 rows of `df`."
   ]
  },
  {
   "cell_type": "code",
   "execution_count": 1,
   "id": "d9f3a747-2039-44d4-ad3e-d95de96a79bb",
   "metadata": {},
   "outputs": [
    {
     "name": "stderr",
     "output_type": "stream",
     "text": [
      "C:\\Users\\simon\\AppData\\Local\\Temp\\ipykernel_35312\\137055534.py:5: DtypeWarning: Columns (13) have mixed types. Specify dtype option on import or set low_memory=False.\n",
      "  df = pd.read_csv(\"used_car_ads.csv\")\n"
     ]
    }
   ],
   "source": [
    "# import relevant library\n",
    "import pandas as pd\n",
    "\n",
    "# read the dataset and save it as df\n",
    "df = pd.read_csv(\"used_car_ads.csv\")"
   ]
  },
  {
   "cell_type": "code",
   "execution_count": 2,
   "id": "33aa30ed-b774-4d58-a6d6-12e7e2eee583",
   "metadata": {},
   "outputs": [
    {
     "data": {
      "text/html": [
       "<div>\n",
       "<style scoped>\n",
       "    .dataframe tbody tr th:only-of-type {\n",
       "        vertical-align: middle;\n",
       "    }\n",
       "\n",
       "    .dataframe tbody tr th {\n",
       "        vertical-align: top;\n",
       "    }\n",
       "\n",
       "    .dataframe thead th {\n",
       "        text-align: right;\n",
       "    }\n",
       "</style>\n",
       "<table border=\"1\" class=\"dataframe\">\n",
       "  <thead>\n",
       "    <tr style=\"text-align: right;\">\n",
       "      <th></th>\n",
       "      <th>Maker</th>\n",
       "      <th>Genmodel</th>\n",
       "      <th>Genmodel_ID</th>\n",
       "      <th>Adv_ID</th>\n",
       "      <th>Adv_year</th>\n",
       "      <th>Adv_month</th>\n",
       "      <th>Color</th>\n",
       "      <th>Reg_year</th>\n",
       "      <th>Bodytype</th>\n",
       "      <th>Runned_Miles</th>\n",
       "      <th>Engin_size</th>\n",
       "      <th>Gearbox</th>\n",
       "      <th>Fuel_type</th>\n",
       "      <th>Price</th>\n",
       "      <th>Seat_num</th>\n",
       "      <th>Door_num</th>\n",
       "    </tr>\n",
       "  </thead>\n",
       "  <tbody>\n",
       "    <tr>\n",
       "      <th>268247</th>\n",
       "      <td>Volvo</td>\n",
       "      <td>V50</td>\n",
       "      <td>96_9</td>\n",
       "      <td>96_9$$524</td>\n",
       "      <td>2018</td>\n",
       "      <td>5</td>\n",
       "      <td>Silver</td>\n",
       "      <td>2009.0</td>\n",
       "      <td>Estate</td>\n",
       "      <td>94000</td>\n",
       "      <td>2.4L</td>\n",
       "      <td>Automatic</td>\n",
       "      <td>Diesel</td>\n",
       "      <td>4250</td>\n",
       "      <td>5.0</td>\n",
       "      <td>5.0</td>\n",
       "    </tr>\n",
       "    <tr>\n",
       "      <th>268248</th>\n",
       "      <td>Volvo</td>\n",
       "      <td>V50</td>\n",
       "      <td>96_9</td>\n",
       "      <td>96_9$$525</td>\n",
       "      <td>2018</td>\n",
       "      <td>5</td>\n",
       "      <td>Silver</td>\n",
       "      <td>2004.0</td>\n",
       "      <td>Estate</td>\n",
       "      <td>111000</td>\n",
       "      <td>2.4L</td>\n",
       "      <td>Automatic</td>\n",
       "      <td>Petrol</td>\n",
       "      <td>2895</td>\n",
       "      <td>5.0</td>\n",
       "      <td>5.0</td>\n",
       "    </tr>\n",
       "    <tr>\n",
       "      <th>268249</th>\n",
       "      <td>Volvo</td>\n",
       "      <td>V50</td>\n",
       "      <td>96_9</td>\n",
       "      <td>96_9$$526</td>\n",
       "      <td>2018</td>\n",
       "      <td>1</td>\n",
       "      <td>Blue</td>\n",
       "      <td>2009.0</td>\n",
       "      <td>Estate</td>\n",
       "      <td>107000</td>\n",
       "      <td>2.0L</td>\n",
       "      <td>Manual</td>\n",
       "      <td>Diesel</td>\n",
       "      <td>3684</td>\n",
       "      <td>5.0</td>\n",
       "      <td>5.0</td>\n",
       "    </tr>\n",
       "    <tr>\n",
       "      <th>268250</th>\n",
       "      <td>Westfield</td>\n",
       "      <td>Sport</td>\n",
       "      <td>97_1</td>\n",
       "      <td>97_1$$1</td>\n",
       "      <td>2018</td>\n",
       "      <td>5</td>\n",
       "      <td>Yellow</td>\n",
       "      <td>2006.0</td>\n",
       "      <td>Convertible</td>\n",
       "      <td>1800</td>\n",
       "      <td>2.2L</td>\n",
       "      <td>Manual</td>\n",
       "      <td>Petrol</td>\n",
       "      <td>8750</td>\n",
       "      <td>2.0</td>\n",
       "      <td>NaN</td>\n",
       "    </tr>\n",
       "    <tr>\n",
       "      <th>268251</th>\n",
       "      <td>Westfield</td>\n",
       "      <td>Sport</td>\n",
       "      <td>97_1</td>\n",
       "      <td>97_1$$2</td>\n",
       "      <td>2018</td>\n",
       "      <td>5</td>\n",
       "      <td>Yellow</td>\n",
       "      <td>2006.0</td>\n",
       "      <td>Convertible</td>\n",
       "      <td>2009</td>\n",
       "      <td>NaN</td>\n",
       "      <td>Manual</td>\n",
       "      <td>NaN</td>\n",
       "      <td>7995</td>\n",
       "      <td>NaN</td>\n",
       "      <td>NaN</td>\n",
       "    </tr>\n",
       "    <tr>\n",
       "      <th>268252</th>\n",
       "      <td>Zenos</td>\n",
       "      <td>E10</td>\n",
       "      <td>99_1</td>\n",
       "      <td>99_1$$1</td>\n",
       "      <td>2018</td>\n",
       "      <td>3</td>\n",
       "      <td>Red</td>\n",
       "      <td>2016.0</td>\n",
       "      <td>Convertible</td>\n",
       "      <td>6</td>\n",
       "      <td>2.0L</td>\n",
       "      <td>Manual</td>\n",
       "      <td>Petrol</td>\n",
       "      <td>27950</td>\n",
       "      <td>2.0</td>\n",
       "      <td>NaN</td>\n",
       "    </tr>\n",
       "    <tr>\n",
       "      <th>268253</th>\n",
       "      <td>Zenos</td>\n",
       "      <td>E10</td>\n",
       "      <td>99_1</td>\n",
       "      <td>99_1$$2</td>\n",
       "      <td>2018</td>\n",
       "      <td>3</td>\n",
       "      <td>Green</td>\n",
       "      <td>2016.0</td>\n",
       "      <td>Convertible</td>\n",
       "      <td>1538</td>\n",
       "      <td>2.0L</td>\n",
       "      <td>Manual</td>\n",
       "      <td>Petrol</td>\n",
       "      <td>34950</td>\n",
       "      <td>2.0</td>\n",
       "      <td>NaN</td>\n",
       "    </tr>\n",
       "    <tr>\n",
       "      <th>268254</th>\n",
       "      <td>Zenos</td>\n",
       "      <td>E10</td>\n",
       "      <td>99_1</td>\n",
       "      <td>99_1$$3</td>\n",
       "      <td>2018</td>\n",
       "      <td>5</td>\n",
       "      <td>Grey</td>\n",
       "      <td>2016.0</td>\n",
       "      <td>Convertible</td>\n",
       "      <td>500</td>\n",
       "      <td>2.3L</td>\n",
       "      <td>Manual</td>\n",
       "      <td>Petrol</td>\n",
       "      <td>29995</td>\n",
       "      <td>2.0</td>\n",
       "      <td>NaN</td>\n",
       "    </tr>\n",
       "  </tbody>\n",
       "</table>\n",
       "</div>"
      ],
      "text/plain": [
       "            Maker Genmodel Genmodel_ID     Adv_ID  Adv_year  Adv_month  \\\n",
       "268247      Volvo      V50        96_9  96_9$$524      2018          5   \n",
       "268248      Volvo      V50        96_9  96_9$$525      2018          5   \n",
       "268249      Volvo      V50        96_9  96_9$$526      2018          1   \n",
       "268250  Westfield    Sport        97_1    97_1$$1      2018          5   \n",
       "268251  Westfield    Sport        97_1    97_1$$2      2018          5   \n",
       "268252      Zenos      E10        99_1    99_1$$1      2018          3   \n",
       "268253      Zenos      E10        99_1    99_1$$2      2018          3   \n",
       "268254      Zenos      E10        99_1    99_1$$3      2018          5   \n",
       "\n",
       "         Color  Reg_year     Bodytype Runned_Miles Engin_size    Gearbox  \\\n",
       "268247  Silver    2009.0       Estate        94000       2.4L  Automatic   \n",
       "268248  Silver    2004.0       Estate       111000       2.4L  Automatic   \n",
       "268249    Blue    2009.0       Estate       107000       2.0L     Manual   \n",
       "268250  Yellow    2006.0  Convertible         1800       2.2L     Manual   \n",
       "268251  Yellow    2006.0  Convertible         2009        NaN     Manual   \n",
       "268252     Red    2016.0  Convertible            6       2.0L     Manual   \n",
       "268253   Green    2016.0  Convertible         1538       2.0L     Manual   \n",
       "268254    Grey    2016.0  Convertible          500       2.3L     Manual   \n",
       "\n",
       "       Fuel_type  Price  Seat_num  Door_num  \n",
       "268247    Diesel   4250       5.0       5.0  \n",
       "268248    Petrol   2895       5.0       5.0  \n",
       "268249    Diesel   3684       5.0       5.0  \n",
       "268250    Petrol   8750       2.0       NaN  \n",
       "268251       NaN   7995       NaN       NaN  \n",
       "268252    Petrol  27950       2.0       NaN  \n",
       "268253    Petrol  34950       2.0       NaN  \n",
       "268254    Petrol  29995       2.0       NaN  "
      ]
     },
     "execution_count": 2,
     "metadata": {},
     "output_type": "execute_result"
    }
   ],
   "source": [
    "# show the last 8 rows\n",
    "df.tail(8)"
   ]
  },
  {
   "cell_type": "markdown",
   "id": "5443a082",
   "metadata": {},
   "source": [
    "**Explanation:**  \n",
    "We start by importing the dataset and load into a Dataframe `df` using pandas library. The `df.tail(8)` function displays the last 8 observations from the data. "
   ]
  },
  {
   "cell_type": "markdown",
   "id": "545b766b",
   "metadata": {},
   "source": [
    "### Question 1.2:\n",
    "Convert all column names in the `df` to lowercase"
   ]
  },
  {
   "cell_type": "code",
   "execution_count": 3,
   "id": "ad8d03b7-498a-491c-b8be-1b43b9c02c07",
   "metadata": {},
   "outputs": [],
   "source": [
    "# Convert all column names to lowercase\n",
    "df.columns = df.columns.str.lower()"
   ]
  },
  {
   "cell_type": "code",
   "execution_count": 4,
   "id": "80b320e9-050b-45a7-932f-818be14d48d2",
   "metadata": {},
   "outputs": [
    {
     "data": {
      "text/plain": [
       "Index(['maker', 'genmodel', 'genmodel_id', 'adv_id', 'adv_year', 'adv_month',\n",
       "       'color', 'reg_year', 'bodytype', 'runned_miles', 'engin_size',\n",
       "       'gearbox', 'fuel_type', 'price', 'seat_num', 'door_num'],\n",
       "      dtype='object')"
      ]
     },
     "execution_count": 4,
     "metadata": {},
     "output_type": "execute_result"
    }
   ],
   "source": [
    "# print column\n",
    "df.columns"
   ]
  },
  {
   "cell_type": "markdown",
   "id": "7fcb6b00-3313-4b47-b6bd-53571e6c304b",
   "metadata": {},
   "source": [
    "**Explanation:**  \n",
    "All column names have been converted to lowercase using `str.lower()` and printed to verify the conversion."
   ]
  },
  {
   "cell_type": "markdown",
   "id": "8f09b5b4",
   "metadata": {},
   "source": [
    "### Question 1.3: \n",
    "Show the dimension and variable data types of the `df`"
   ]
  },
  {
   "cell_type": "code",
   "execution_count": 5,
   "id": "2b6215fd-fe1c-49fc-a417-ef2357a00041",
   "metadata": {},
   "outputs": [
    {
     "data": {
      "text/plain": [
       "(268255, 16)"
      ]
     },
     "execution_count": 5,
     "metadata": {},
     "output_type": "execute_result"
    }
   ],
   "source": [
    "# show shape of the dataframe\n",
    "df.shape"
   ]
  },
  {
   "cell_type": "code",
   "execution_count": 6,
   "id": "5bf5ad96-4981-4f80-9020-9300bf8671f6",
   "metadata": {},
   "outputs": [
    {
     "data": {
      "text/plain": [
       "maker            object\n",
       "genmodel         object\n",
       "genmodel_id      object\n",
       "adv_id           object\n",
       "adv_year          int64\n",
       "adv_month         int64\n",
       "color            object\n",
       "reg_year        float64\n",
       "bodytype         object\n",
       "runned_miles     object\n",
       "engin_size       object\n",
       "gearbox          object\n",
       "fuel_type        object\n",
       "price            object\n",
       "seat_num        float64\n",
       "door_num        float64\n",
       "dtype: object"
      ]
     },
     "execution_count": 6,
     "metadata": {},
     "output_type": "execute_result"
    }
   ],
   "source": [
    "# check data types of the variables\n",
    "df.dtypes"
   ]
  },
  {
   "cell_type": "markdown",
   "id": "68338c07",
   "metadata": {},
   "source": [
    "**Explanation:**  \n",
    "We check the shape to see how many rows and columns the dataset has, which is 268,255 rows (used car listing) and 16 columns (variables). Then we look at the data types to understand what kind of values each variable is stored as. The data types that are identified are `object` `int64` `float64`"
   ]
  },
  {
   "cell_type": "markdown",
   "id": "b8d2a705-0f31-40a0-b079-5755e2d74044",
   "metadata": {},
   "source": [
    "### Question 1.4: \n",
    "The `price` column is currently of object type, which is not appropriate for numerical analysis. Investigate the underlying cause and convert the `price` column to a float type."
   ]
  },
  {
   "cell_type": "markdown",
   "id": "97f7d646-89c9-409a-8273-d51165c017c2",
   "metadata": {},
   "source": [
    "**Explanation:** \n",
    "I tried to convert the column using `astype(float)` and got an `Error`. This raised an `Error`, revealing that one of the values was the string `\"Uknown\"`. Because of this string the entire column got stored as the datatype `object`.\n",
    "To fix the issue, I replaced `\"Uknown\"` with `None`, which pandas treats as a missing value. Then the verifed the conversion using `dtypes` which confirmed that the columns is now stored as `float`.\n"
   ]
  },
  {
   "cell_type": "code",
   "execution_count": 7,
   "id": "5fc5a79a-0f3b-4ee3-a7f8-e3e693e2dd91",
   "metadata": {},
   "outputs": [],
   "source": [
    "# fix invalid value based on error message Uknown\n",
    "df[\"price\"] = df[\"price\"].replace(\"Uknown\", None)"
   ]
  },
  {
   "cell_type": "code",
   "execution_count": 8,
   "id": "60a3ba93-8ee9-4061-bf5b-90e117157f4c",
   "metadata": {},
   "outputs": [],
   "source": [
    "# Convert to float\n",
    "df[\"price\"] = df[\"price\"].astype(float)\n"
   ]
  },
  {
   "cell_type": "code",
   "execution_count": 9,
   "id": "f2b1f321-26d6-49af-bf2b-cf5850fe77b3",
   "metadata": {},
   "outputs": [
    {
     "data": {
      "text/plain": [
       "dtype('float64')"
      ]
     },
     "execution_count": 9,
     "metadata": {},
     "output_type": "execute_result"
    }
   ],
   "source": [
    "# confirm for succesful conversion\n",
    "df[\"price\"].dtypes"
   ]
  },
  {
   "cell_type": "markdown",
   "id": "e39dfb41-4977-4f7d-b24e-dcb0feca85f2",
   "metadata": {},
   "source": [
    "### Question 1.5: \n",
    "The `runned_miles` column is also of object type, which is unsuitable for representing mileage values.Investigate the underlying cause and convert the `runned_miles` column to an integer type."
   ]
  },
  {
   "cell_type": "markdown",
   "id": "808dfaec-89e3-430a-9cee-32504beab64c",
   "metadata": {},
   "source": [
    "**Explanation:**  \n",
    "Similar to Question 1.4, I followed the same approach. I tried to convert the `runned_miles` column from `object` to `int` using `astype(int)` and got a `Error`. The `Error` revealed that some of the values were missing `NaN`, which caused the column to be stored as `object` instead of `int`. When I attempted the conversion again, I ran into another error due to a string value: `\"1 mile\"`.  \n",
    "\n",
    "To fix the issue, I replaced `\"1 mile\"` with `None`, which pandas treats as a missing value. Then I removed any remaining missing values using `dropna()`. After that i converted the column using `astype(int)` and `dtype` to verify that the conversion was successful. The conversion of the column is now is now verifed in `cell 13`"
   ]
  },
  {
   "cell_type": "code",
   "execution_count": 10,
   "id": "29ceb4f9-2df6-452b-b722-9ad8a5f37433",
   "metadata": {},
   "outputs": [],
   "source": [
    "# fix invalid value based on error message 1 mile\n",
    "df[\"runned_miles\"] = df[\"runned_miles\"].replace(\"1 mile\", None)"
   ]
  },
  {
   "cell_type": "code",
   "execution_count": 11,
   "id": "142c55aa-9b5f-42c5-ae8a-94a50eb365b0",
   "metadata": {},
   "outputs": [],
   "source": [
    "# remove any remaining missing values\n",
    "df = df.dropna(subset=[\"runned_miles\"])\n",
    "\n"
   ]
  },
  {
   "cell_type": "code",
   "execution_count": 12,
   "id": "dba8110b-ee83-48a6-b5aa-8fe6be9ef7d0",
   "metadata": {},
   "outputs": [],
   "source": [
    "# convert to integer\n",
    "df[\"runned_miles\"] = df[\"runned_miles\"].astype(int)"
   ]
  },
  {
   "cell_type": "code",
   "execution_count": 13,
   "id": "23660737-c08d-49c9-80e6-d883381be08d",
   "metadata": {},
   "outputs": [
    {
     "data": {
      "text/plain": [
       "dtype('int64')"
      ]
     },
     "execution_count": 13,
     "metadata": {},
     "output_type": "execute_result"
    }
   ],
   "source": [
    "# confirm conversion\n",
    "df[\"runned_miles\"].dtypes"
   ]
  },
  {
   "cell_type": "markdown",
   "id": "3c7cb849",
   "metadata": {},
   "source": [
    "**Explanation:**  \n",
    "Similar to Question 1.4, I followed the same approach. I tried to convert the `runned_miles` column from `object` to `int` using `.astype(int)` and got a `ValueError`. The error revealed that some of the values were missing (`NaN`), which caused the column to be stored as `object` instead of `int`. When I attempted the conversion again, I ran into another error due to a string value: `\"1 mile\"`.  \n",
    "\n",
    "To fix the issue, I replaced `\"1 mile\"` with `None`, which pandas treats as a missing value. Then I removed any remaining missing values using `.dropna()`.After that, I re-applied `astype(int)` and used `.dtype` and `.head()` to verify that the conversion was successful. The conversion of the column is now is now verifed in cell 13 and is now `int`ready for numerical analysis.\n"
   ]
  },
  {
   "cell_type": "markdown",
   "id": "a4972fdf",
   "metadata": {},
   "source": [
    "### Question 1.6: \n",
    "The `engin_size` column is currently of object type, which is not suitable for numerical analysis. Please remove the \"L\" suffix from its values and convert the column to a float type."
   ]
  },
  {
   "cell_type": "code",
   "execution_count": 14,
   "id": "e9d5cf4f-fd96-4078-b03f-05541c1203c9",
   "metadata": {},
   "outputs": [],
   "source": [
    "# remove L\n",
    "df[\"engin_size\"] = df[\"engin_size\"].str.replace(\"L\", \"\")"
   ]
  },
  {
   "cell_type": "code",
   "execution_count": 15,
   "id": "ebf6d44b-b3d3-47c0-b4d5-326e5e6c5ef5",
   "metadata": {},
   "outputs": [],
   "source": [
    "#convert to float\n",
    "df[\"engin_size\"] = df[\"engin_size\"].astype(float)"
   ]
  },
  {
   "cell_type": "code",
   "execution_count": 16,
   "id": "29f5713c-2cdd-4c25-a9ba-c92d15208e33",
   "metadata": {},
   "outputs": [
    {
     "data": {
      "text/plain": [
       "dtype('float64')"
      ]
     },
     "execution_count": 16,
     "metadata": {},
     "output_type": "execute_result"
    }
   ],
   "source": [
    "# confirm conversion\n",
    "df[\"engin_size\"].dtype"
   ]
  },
  {
   "cell_type": "markdown",
   "id": "40a5f2ac",
   "metadata": {},
   "source": [
    "**Explanation:**  \n",
    "The question stated that the values in the `engin_size` column contain a trailing `\"L\"` that needs to be removed. I followed the instruction by using `str.replace(\"L\", \"\")` (learned from the course literature) to remove the `\"L\"` suffix. After that, I converted the column to `float` using `astype(float)`. The column is now correctly stored as the datatype `float`.\n"
   ]
  },
  {
   "cell_type": "markdown",
   "id": "29bfd6eb",
   "metadata": {},
   "source": [
    "### Question 1.7: The `reg_year` column is displayed as float type, which is not appropriate for representing registration years. Please convert `reg_year` to an integer type."
   ]
  },
  {
   "cell_type": "code",
   "execution_count": 17,
   "id": "3ae10779",
   "metadata": {},
   "outputs": [],
   "source": [
    "# convert registration year to integer\n",
    "df[\"reg_year\"] = df[\"reg_year\"].astype(int)"
   ]
  },
  {
   "cell_type": "code",
   "execution_count": 18,
   "id": "9dd24178-0c38-45ec-8451-190321225ff1",
   "metadata": {},
   "outputs": [
    {
     "data": {
      "text/plain": [
       "dtype('int64')"
      ]
     },
     "execution_count": 18,
     "metadata": {},
     "output_type": "execute_result"
    }
   ],
   "source": [
    "# confirm conversion\n",
    "df[\"reg_year\"].dtype"
   ]
  },
  {
   "cell_type": "markdown",
   "id": "2582aa3a-46b6-4389-bca5-601745cdeec9",
   "metadata": {},
   "source": [
    "**Explanation:** \n",
    "The `reg_year` column was stored as `float`, but registration years should be represented as whole numbers. To fix this, I converted the column to `int` using `astype(int)`. The column is now of type `int`."
   ]
  },
  {
   "cell_type": "markdown",
   "id": "83637a7b",
   "metadata": {},
   "source": [
    "### Question 1.8: \n",
    "If there are any missing values in the `df`, calculate and report the percentage of missing values for each column. Then, remove all rows that contain any missing values."
   ]
  },
  {
   "cell_type": "code",
   "execution_count": 19,
   "id": "88d9b354",
   "metadata": {},
   "outputs": [
    {
     "data": {
      "text/plain": [
       "maker               0\n",
       "genmodel            0\n",
       "genmodel_id         0\n",
       "adv_id              0\n",
       "adv_year            0\n",
       "adv_month           0\n",
       "color           21692\n",
       "reg_year            0\n",
       "bodytype          927\n",
       "runned_miles        0\n",
       "engin_size       1977\n",
       "gearbox           144\n",
       "fuel_type         397\n",
       "price            1135\n",
       "seat_num         6312\n",
       "door_num         4468\n",
       "dtype: int64"
      ]
     },
     "execution_count": 19,
     "metadata": {},
     "output_type": "execute_result"
    }
   ],
   "source": [
    "# show missing in the columns\n",
    "df.isna().sum()"
   ]
  },
  {
   "cell_type": "code",
   "execution_count": 20,
   "id": "feb392ab-4027-4062-afe5-c654bd82ad9b",
   "metadata": {},
   "outputs": [
    {
     "data": {
      "text/plain": [
       "maker           0.000000\n",
       "genmodel        0.000000\n",
       "genmodel_id     0.000000\n",
       "adv_id          0.000000\n",
       "adv_year        0.000000\n",
       "adv_month       0.000000\n",
       "color           8.126110\n",
       "reg_year        0.000000\n",
       "bodytype        0.347266\n",
       "runned_miles    0.000000\n",
       "engin_size      0.740610\n",
       "gearbox         0.053944\n",
       "fuel_type       0.148721\n",
       "price           0.425186\n",
       "seat_num        2.364559\n",
       "door_num        1.673772\n",
       "dtype: float64"
      ]
     },
     "execution_count": 20,
     "metadata": {},
     "output_type": "execute_result"
    }
   ],
   "source": [
    "#percentage of missing values for each column\n",
    "(df.isna().mean() * 100)"
   ]
  },
  {
   "cell_type": "code",
   "execution_count": 21,
   "id": "3115c822-e23b-46f5-bb78-37590b5f08dd",
   "metadata": {},
   "outputs": [],
   "source": [
    "# remove rows with any missing values\n",
    "df = df.dropna()"
   ]
  },
  {
   "cell_type": "code",
   "execution_count": 22,
   "id": "7b1395eb-3ff2-480d-ad39-3798328ce3f2",
   "metadata": {},
   "outputs": [
    {
     "data": {
      "text/plain": [
       "maker           0\n",
       "genmodel        0\n",
       "genmodel_id     0\n",
       "adv_id          0\n",
       "adv_year        0\n",
       "adv_month       0\n",
       "color           0\n",
       "reg_year        0\n",
       "bodytype        0\n",
       "runned_miles    0\n",
       "engin_size      0\n",
       "gearbox         0\n",
       "fuel_type       0\n",
       "price           0\n",
       "seat_num        0\n",
       "door_num        0\n",
       "dtype: int64"
      ]
     },
     "execution_count": 22,
     "metadata": {},
     "output_type": "execute_result"
    }
   ],
   "source": [
    "# confirm that all missing values are gone\n",
    "df.isna().sum()"
   ]
  },
  {
   "cell_type": "markdown",
   "id": "94f6bc01-3dc5-4aef-b896-4557f5452ea0",
   "metadata": {},
   "source": [
    "**Explanation:**  \n",
    "I used `isna().sum()` to check how many missing values each column had, and `mean() * 100` to calculate the percentage.  Then I removed all rows with missing data using `dropna()`.  \n",
    "At the end i confirmed the that all missing values was gone using `isna().sum()`  \n"
   ]
  },
  {
   "cell_type": "markdown",
   "id": "4d4e675e",
   "metadata": {},
   "source": [
    "### Question 1.9:\n",
    "Show the top 10 car brands (i.e., column `makers`) by count in the `df` and plot them as a bar chart. "
   ]
  },
  {
   "cell_type": "code",
   "execution_count": 23,
   "id": "aa7d19c3",
   "metadata": {},
   "outputs": [],
   "source": [
    "# count car brands\n",
    "brand_counts = df[\"maker\"].value_counts()\n"
   ]
  },
  {
   "cell_type": "code",
   "execution_count": 24,
   "id": "211a6e98-145b-4e8b-9f56-16412ba85b47",
   "metadata": {},
   "outputs": [
    {
     "name": "stdout",
     "output_type": "stream",
     "text": [
      "maker\n",
      "Ford          22889\n",
      "Audi          19943\n",
      "Vauxhall      17985\n",
      "Volkswagen    15364\n",
      "BMW           13703\n",
      "Nissan        11470\n",
      "Peugeot        9853\n",
      "Land Rover     8976\n",
      "Citroen        8829\n",
      "Toyota         8617\n",
      "Name: count, dtype: int64\n"
     ]
    }
   ],
   "source": [
    "# select the top 10 and show them.\n",
    "top_10_makers = brand_counts.head(10)\n",
    "print(top_10_makers)"
   ]
  },
  {
   "cell_type": "code",
   "execution_count": 25,
   "id": "6375752e-931f-40a3-9f37-a7d499780b3f",
   "metadata": {},
   "outputs": [
    {
     "data": {
      "image/png": "[encoded data removed]",
      "text/plain": [
       "<Figure size 640x480 with 1 Axes>"
      ]
     },
     "metadata": {},
     "output_type": "display_data"
    }
   ],
   "source": [
    "#Python library for data visualization \n",
    "import matplotlib.pyplot as plt\n",
    "\n",
    "# plot as a bar chart\n",
    "top_10_makers.plot(kind = \"bar\")\n",
    "plt.title(\"Top 10 Car Brands By Count\")\n",
    "plt.xlabel(\"Car Brand\")\n",
    "plt.ylabel(\"Number Of Cars \")\n",
    "plt.show()"
   ]
  },
  {
   "cell_type": "markdown",
   "id": "1ddb9277-f8de-41c5-bea1-c26ace09ed39",
   "metadata": {},
   "source": [
    "**Explanation:**  \n",
    "I used `value_counts()` on the `maker` column to count how often each car brand appears. Then I selected the top 10 using `head(10)`, and visualized them with `plot(kind=\"bar\")` using `matplotlib` library. The chart visualise the 10 most common car brands and the number of cars that in the dataset."
   ]
  },
  {
   "cell_type": "markdown",
   "id": "b85f27a0",
   "metadata": {},
   "source": [
    "### Question 1.10: \n",
    "Extract a subset of `df` that includes only the top 10 car brands (maker), and within those brands, only keep rows where the corresponding `genmodel` appears in at least 1000 observations. Save the resulting subset back to `df`."
   ]
  },
  {
   "cell_type": "code",
   "execution_count": 26,
   "id": "ba8fe346-e9eb-4a40-be18-e31c7ea11f29",
   "metadata": {},
   "outputs": [
    {
     "name": "stdout",
     "output_type": "stream",
     "text": [
      "maker\n",
      "Ford          22889\n",
      "Audi          19943\n",
      "Vauxhall      17985\n",
      "Volkswagen    15364\n",
      "BMW           13703\n",
      "Nissan        11470\n",
      "Peugeot        9853\n",
      "Land Rover     8976\n",
      "Citroen        8829\n",
      "Toyota         8617\n",
      "Name: count, dtype: int64\n"
     ]
    }
   ],
   "source": [
    "# count how many times maker appears\n",
    "maker_counts = df[\"maker\"].value_counts()\n",
    "print(top_10_makers)"
   ]
  },
  {
   "cell_type": "code",
   "execution_count": 27,
   "id": "db2f3c91-87e9-46d5-86c5-c5cbbc662023",
   "metadata": {},
   "outputs": [],
   "source": [
    "# get top 10 maker names\n",
    "top_10_makers = maker_counts.head(10).index\n",
    "\n",
    "# keep only rows with top 10 makers\n",
    "df = df[df[\"maker\"].isin(top_10_makers)]\n",
    "\n",
    "# count genmodel frequency within top 10 makers\n",
    "common = df[\"genmodel\"].value_counts()\n",
    "\n",
    "# keep only genmodels with at least 1000 rows\n",
    "df = df[df[\"genmodel\"].isin(common[common >= 1000].index)]"
   ]
  },
  {
   "cell_type": "code",
   "execution_count": 28,
   "id": "db17d4c4-8434-4b67-a806-1b3c2356b454",
   "metadata": {},
   "outputs": [
    {
     "data": {
      "text/plain": [
       "maker\n",
       "Ford          17547\n",
       "Vauxhall      12498\n",
       "Audi           8950\n",
       "Nissan         8892\n",
       "Volkswagen     7927\n",
       "BMW            6475\n",
       "Land Rover     4777\n",
       "Citroen        3858\n",
       "Toyota         3112\n",
       "Peugeot        2402\n",
       "Name: count, dtype: int64"
      ]
     },
     "execution_count": 28,
     "metadata": {},
     "output_type": "execute_result"
    }
   ],
   "source": [
    "#confrim filtering \n",
    "df[\"maker\"].value_counts().head(10)"
   ]
  },
  {
   "cell_type": "markdown",
   "id": "23d7420a",
   "metadata": {},
   "source": [
    "**Explanation:**  \n",
    "I used `value_counts()` to get the top 10 car `maker`, then I filtered with `isin()`. Finally, I kept `genmodel` values with at least 1,000 entries."
   ]
  },
  {
   "cell_type": "markdown",
   "id": "240fab12",
   "metadata": {},
   "source": [
    "### Question 1.11: \n",
    "Extract a subset of `df` that includes only the top 5 most frequent `bodytype` values based on their counts. Save the resulting subset back to `df`."
   ]
  },
  {
   "cell_type": "code",
   "execution_count": 29,
   "id": "56fa4143",
   "metadata": {},
   "outputs": [
    {
     "name": "stdout",
     "output_type": "stream",
     "text": [
      "bodytype\n",
      "Hatchback          39044\n",
      "SUV                18036\n",
      "MPV                 6532\n",
      "Saloon              4379\n",
      "Estate              4233\n",
      "Coupe               2441\n",
      "Pickup              1020\n",
      "Convertible          658\n",
      "Panel Van             66\n",
      "Car Derived Van       26\n",
      "Combi Van              3\n",
      "Name: count, dtype: int64\n"
     ]
    }
   ],
   "source": [
    "# count how many times each bodytype appears\n",
    "body_counts = df[\"bodytype\"].value_counts()\n",
    "print(body_counts)"
   ]
  },
  {
   "cell_type": "code",
   "execution_count": 30,
   "id": "cec0dc66-45ee-452c-8911-761a8dfc69e6",
   "metadata": {},
   "outputs": [],
   "source": [
    "# save count as body_counts\n",
    "body_counts = df[\"bodytype\"].value_counts()\n",
    "\n",
    "# keep only rows where bodytype is in the top 5\n",
    "top_5_bodytypes = body_counts.head(5).index\n",
    "\n",
    "# filter to keep only those top 5 bodytypes\n",
    "df = df[df[\"bodytype\"].isin(top_5_bodytypes)]"
   ]
  },
  {
   "cell_type": "code",
   "execution_count": 31,
   "id": "1c1e997d-5908-4028-98f9-198102006570",
   "metadata": {},
   "outputs": [
    {
     "data": {
      "text/plain": [
       "bodytype\n",
       "Hatchback    39044\n",
       "SUV          18036\n",
       "MPV           6532\n",
       "Saloon        4379\n",
       "Estate        4233\n",
       "Name: count, dtype: int64"
      ]
     },
     "execution_count": 31,
     "metadata": {},
     "output_type": "execute_result"
    }
   ],
   "source": [
    "# check result after filtering\n",
    "df[\"bodytype\"].value_counts()"
   ]
  },
  {
   "cell_type": "markdown",
   "id": "b78835fc-c560-482c-a6d6-836f8a1ea811",
   "metadata": {},
   "source": [
    "**Explanation:**  \n",
    "I used `value_counts().head(5).index` to get the top 5 bodytypes,  \n",
    "then filtered `df` using `isin()` to keep only those rows.\n"
   ]
  },
  {
   "cell_type": "markdown",
   "id": "97f8fb44",
   "metadata": {},
   "source": [
    "### Question 1.12: \n",
    "Identify the top 10 most frequent values in the `color` column. Then, update the column by keeping only these top 10 colors, and replacing all other values with the label `Others`."
   ]
  },
  {
   "cell_type": "code",
   "execution_count": 32,
   "id": "6a4dd7ca",
   "metadata": {},
   "outputs": [],
   "source": [
    "# count colors and get the top 10\n",
    "color_counts = df[\"color\"].value_counts()\n",
    "top_10_colors = color_counts.head(10).index\n",
    "\n"
   ]
  },
  {
   "cell_type": "code",
   "execution_count": 33,
   "id": "ecaf11cc-79a9-4670-88b2-89cc49c26d29",
   "metadata": {},
   "outputs": [],
   "source": [
    "# replace all other colors with 'Others'\n",
    "df.loc[~df[\"color\"].isin(top_10_colors), \"color\"] = \"Others\"\n"
   ]
  },
  {
   "cell_type": "code",
   "execution_count": 34,
   "id": "182e02b9-4d3c-4317-a1c9-3fa6b355a7e7",
   "metadata": {},
   "outputs": [
    {
     "data": {
      "text/plain": [
       "color\n",
       "Black     14178\n",
       "Silver    12276\n",
       "Blue      11283\n",
       "Grey      10695\n",
       "White      9009\n",
       "Red        7954\n",
       "Others     2073\n",
       "Green      1655\n",
       "Brown      1225\n",
       "Orange     1019\n",
       "Yellow      857\n",
       "Name: count, dtype: int64"
      ]
     },
     "execution_count": 34,
     "metadata": {},
     "output_type": "execute_result"
    }
   ],
   "source": [
    "# confirm filtering\n",
    "df[\"color\"].value_counts()"
   ]
  },
  {
   "cell_type": "markdown",
   "id": "70f92501",
   "metadata": {},
   "source": [
    "**Explanation:**  \n",
    "I used `value_counts()` & `head(10).index` to get the top 10 colors.  \n",
    "Then used `isin()` with `loc[]` to replace all other colors with `\"Others\"`"
   ]
  },
  {
   "cell_type": "markdown",
   "id": "b2807157",
   "metadata": {},
   "source": [
    "### Question 1.13: \n",
    "Clean the `fuel_type` column by merging all values that contain the terms `Hybrid`, `Bi`, or `Electric` into a single category labeled `Hybrid/Electric`. Then, remove all rows from the `df` where the `fuel_type` is not one of the following: `Petrol`, `Diesel`, or `Hybrid/Electric`."
   ]
  },
  {
   "cell_type": "code",
   "execution_count": 35,
   "id": "699bb1aa",
   "metadata": {},
   "outputs": [
    {
     "data": {
      "text/plain": [
       "fuel_type\n",
       "Diesel                             36913\n",
       "Petrol                             34361\n",
       "Hybrid  Petrol/Electric              763\n",
       "Hybrid  Petrol/Electric Plug-in       79\n",
       "Petrol Plug-in Hybrid                 51\n",
       "Petrol Hybrid                         19\n",
       "Bi Fuel                               13\n",
       "Hybrid  Diesel/Electric               12\n",
       "Diesel Hybrid                          8\n",
       "Hybrid  Diesel/Electric Plug-in        3\n",
       "Petrol Ethanol                         1\n",
       "Electric                               1\n",
       "Name: count, dtype: int64"
      ]
     },
     "execution_count": 35,
     "metadata": {},
     "output_type": "execute_result"
    }
   ],
   "source": [
    "# Count how many times each fuel type appears\n",
    "df['fuel_type'].value_counts()"
   ]
  },
  {
   "cell_type": "code",
   "execution_count": 36,
   "id": "d65b941a-84cd-4608-9551-63b270def601",
   "metadata": {},
   "outputs": [],
   "source": [
    "# replace the terms with Hybrid/Electric\n",
    "df[\"fuel_type\"] = df[\"fuel_type\"].replace({\n",
    "    \"Hybrid\": \"Hybrid/Electric\",\n",
    "    \"Plugin Hybrid\": \"Hybrid/Electric\",\n",
    "    \"Bi Fuel\": \"Hybrid/Electric\",\n",
    "    \"Electric\": \"Hybrid/Electric\"\n",
    "})\n",
    "\n"
   ]
  },
  {
   "cell_type": "code",
   "execution_count": 37,
   "id": "69b3796a-b661-41e3-a994-084ef842e0e2",
   "metadata": {},
   "outputs": [],
   "source": [
    "# keep only rows with allowed fuel types\n",
    "df = df[df[\"fuel_type\"].isin([\"Petrol\", \"Diesel\", \"Hybrid/Electric\"])]\n",
    "\n"
   ]
  },
  {
   "cell_type": "code",
   "execution_count": 38,
   "id": "cdaaaed9-0a65-406b-bcfb-ac1b77a72df7",
   "metadata": {},
   "outputs": [
    {
     "data": {
      "text/plain": [
       "fuel_type\n",
       "Diesel             36913\n",
       "Petrol             34361\n",
       "Hybrid/Electric       14\n",
       "Name: count, dtype: int64"
      ]
     },
     "execution_count": 38,
     "metadata": {},
     "output_type": "execute_result"
    }
   ],
   "source": [
    "# confirm filtering\n",
    "df[\"fuel_type\"].value_counts()\n"
   ]
  },
  {
   "cell_type": "markdown",
   "id": "419938e0-c31a-4cc2-ac84-a831300843ea",
   "metadata": {},
   "source": [
    "**Explanation:**  \n",
    "We merge \"Hybrid\", \"Plugin Hybrid\", \"Bi Fuel\", and \"Electric\" into one group using `replace()`. Then we filter out all other rows besides [\"Petrol\", \"Diesel\", \"Hybrid/Electric\"] using `isin()` and confirm the filtering using `value_counts()`\n"
   ]
  },
  {
   "cell_type": "markdown",
   "id": "be3d248f",
   "metadata": {},
   "source": [
    "### Question 1.14: \n",
    "Replace all occurrences of `Semi-Automatic` with `Automatic` in the `gearbox` column."
   ]
  },
  {
   "cell_type": "code",
   "execution_count": 39,
   "id": "7be4fac3",
   "metadata": {},
   "outputs": [],
   "source": [
    "# replace Semi Automatic with Automatic\n",
    "df[\"gearbox\"] = df[\"gearbox\"].replace(\"Semi-Automatic\", \"Automatic\")"
   ]
  },
  {
   "cell_type": "code",
   "execution_count": 40,
   "id": "4783528a-af3d-4a76-95ce-d666466d05e1",
   "metadata": {},
   "outputs": [
    {
     "data": {
      "text/plain": [
       "gearbox\n",
       "Manual       52680\n",
       "Automatic    18608\n",
       "Name: count, dtype: int64"
      ]
     },
     "execution_count": 40,
     "metadata": {},
     "output_type": "execute_result"
    }
   ],
   "source": [
    "# confirm replacement\n",
    "df[\"gearbox\"].value_counts()"
   ]
  },
  {
   "cell_type": "markdown",
   "id": "11436b44",
   "metadata": {},
   "source": [
    "### Question 1.15: \n",
    "Convert the `seat_num` and `door_num` columns to integer type first, and then convert them to string type."
   ]
  },
  {
   "cell_type": "code",
   "execution_count": 41,
   "id": "dbfd42b3-a82e-41c3-b753-f9dd80e03fc2",
   "metadata": {},
   "outputs": [],
   "source": [
    "# drop rows with missing seat_num or door_num\n",
    "df = df.dropna(subset=[\"seat_num\", \"door_num\"])"
   ]
  },
  {
   "cell_type": "code",
   "execution_count": 42,
   "id": "0474ce30",
   "metadata": {},
   "outputs": [],
   "source": [
    "# convert both columns to integer\n",
    "df[\"seat_num\"] = df[\"seat_num\"].astype(\"int64\")\n",
    "df[\"door_num\"] = df[\"door_num\"].astype(\"int64\")"
   ]
  },
  {
   "cell_type": "code",
   "execution_count": 43,
   "id": "1a17a775-0fa1-482f-8990-9fd6ce30182f",
   "metadata": {},
   "outputs": [],
   "source": [
    "# then convert to string\n",
    "df[\"seat_num\"] = df[\"seat_num\"].astype(\"string\")\n",
    "df[\"door_num\"] = df[\"door_num\"].astype(\"string\")"
   ]
  },
  {
   "cell_type": "code",
   "execution_count": 44,
   "id": "0e48408e-259e-45b8-9449-5f741db07d62",
   "metadata": {},
   "outputs": [
    {
     "data": {
      "text/plain": [
       "(seat_num    string[python]\n",
       " door_num    string[python]\n",
       " dtype: object,\n",
       "      seat_num door_num\n",
       " 2724        5        5\n",
       " 2725        5        5\n",
       " 2726        5        5\n",
       " 2728        5        5\n",
       " 2729        5        5)"
      ]
     },
     "execution_count": 44,
     "metadata": {},
     "output_type": "execute_result"
    }
   ],
   "source": [
    "# check conversion\n",
    "df[[\"seat_num\", \"door_num\"]].dtypes,df[[\"seat_num\", \"door_num\"]].head()\n"
   ]
  },
  {
   "cell_type": "markdown",
   "id": "8c69503e",
   "metadata": {},
   "source": [
    "### Question 1.16: \n",
    "Convert object columns to category and ensure integer columns use int64"
   ]
  },
  {
   "cell_type": "code",
   "execution_count": 45,
   "id": "423e78fb",
   "metadata": {},
   "outputs": [
    {
     "name": "stdout",
     "output_type": "stream",
     "text": [
      "<class 'pandas.core.frame.DataFrame'>\n",
      "Index: 71288 entries, 2724 to 259787\n",
      "Data columns (total 16 columns):\n",
      " #   Column        Non-Null Count  Dtype   \n",
      "---  ------        --------------  -----   \n",
      " 0   maker         71288 non-null  category\n",
      " 1   genmodel      71288 non-null  category\n",
      " 2   genmodel_id   71288 non-null  category\n",
      " 3   adv_id        71288 non-null  category\n",
      " 4   adv_year      71288 non-null  int64   \n",
      " 5   adv_month     71288 non-null  int64   \n",
      " 6   color         71288 non-null  category\n",
      " 7   reg_year      71288 non-null  int64   \n",
      " 8   bodytype      71288 non-null  category\n",
      " 9   runned_miles  71288 non-null  int64   \n",
      " 10  engin_size    71288 non-null  float64 \n",
      " 11  gearbox       71288 non-null  category\n",
      " 12  fuel_type     71288 non-null  category\n",
      " 13  price         71288 non-null  float64 \n",
      " 14  seat_num      71288 non-null  string  \n",
      " 15  door_num      71288 non-null  string  \n",
      "dtypes: category(8), float64(2), int64(4), string(2)\n",
      "memory usage: 8.2 MB\n"
     ]
    }
   ],
   "source": [
    "# converting all datatype of object to category\n",
    "df[df.select_dtypes(include=\"object\").columns] = df.select_dtypes(include=\"object\").astype(\"category\")\n",
    "\n",
    "# Ensuring all integer are datatype int64\n",
    "df[df.select_dtypes(include=[\"int\"]).columns] = df.select_dtypes(include=[\"int\"]).astype(\"int64\")\n",
    "\n",
    "# Verify\n",
    "df.info()\n"
   ]
  },
  {
   "cell_type": "markdown",
   "id": "c0c6eb75",
   "metadata": {},
   "source": [
    "**Explanation:**  \n",
    "I used `select_dtypes()` to capture all datatype of object and int, and `astype` to convert the object into category and int into int64"
   ]
  },
  {
   "cell_type": "markdown",
   "id": "22bb7717",
   "metadata": {},
   "source": [
    "### Question 1.17: \n",
    "Remove all rows from the `df` where the value in the `adv_year` column is less than the value in the `reg_year` column."
   ]
  },
  {
   "cell_type": "code",
   "execution_count": 46,
   "id": "13ca93b0-5f58-4fdf-98ac-563034b2fa85",
   "metadata": {},
   "outputs": [
    {
     "data": {
      "text/plain": [
       "(71288, 16)"
      ]
     },
     "execution_count": 46,
     "metadata": {},
     "output_type": "execute_result"
    }
   ],
   "source": [
    "# check current rows\n",
    "df.shape"
   ]
  },
  {
   "cell_type": "code",
   "execution_count": 47,
   "id": "d6be35c2",
   "metadata": {},
   "outputs": [],
   "source": [
    "# remove rows where adv_year is earlier than reg_year\n",
    "df = df[df[\"adv_year\"] >= df[\"reg_year\"]]\n"
   ]
  },
  {
   "cell_type": "code",
   "execution_count": 48,
   "id": "0a5b24ec-6a86-480b-89a4-bf76c77253e5",
   "metadata": {},
   "outputs": [
    {
     "data": {
      "text/plain": [
       "(71278, 16)"
      ]
     },
     "execution_count": 48,
     "metadata": {},
     "output_type": "execute_result"
    }
   ],
   "source": [
    "# verify removement of rows\n",
    "df.shape\n"
   ]
  },
  {
   "cell_type": "markdown",
   "id": "69e2a944",
   "metadata": {},
   "source": [
    "### Question 1.18: \n",
    "Create a boxplot using Seaborn to visualize the distribution of used car prices (i.e., `price`) across different registration years (i.e.,  `reg_year`), with the data further grouped by transmission type (i.e.,`gearbox`).  The plot uses a white theme, and the legend is positioned in the upper left corner outside the plot for better readability."
   ]
  },
  {
   "cell_type": "code",
   "execution_count": 49,
   "id": "aab94b3d",
   "metadata": {},
   "outputs": [],
   "source": [
    "# import visualization libraries and apply white theme\n",
    "import seaborn as sns\n",
    "import matplotlib.pyplot as plt\n",
    "sns.set_theme(style=\"white\")"
   ]
  },
  {
   "cell_type": "code",
   "execution_count": 50,
   "id": "aa993af0-3cbf-40da-a434-8ef237da7302",
   "metadata": {},
   "outputs": [
    {
     "data": {
      "image/png": "[encoded data removed]",
      "text/plain": [
       "<Figure size 1200x600 with 1 Axes>"
      ]
     },
     "metadata": {},
     "output_type": "display_data"
    }
   ],
   "source": [
    "# create the boxplot and display\n",
    "plt.figure(figsize=(12, 6))\n",
    "sns.boxplot(data=df, x=\"reg_year\", y=\"price\", hue=\"gearbox\")\n",
    "plt.legend(loc=\"upper left\", bbox_to_anchor=(1.02, 1))\n",
    "plt.show()"
   ]
  },
  {
   "cell_type": "markdown",
   "id": "f294a802-98c3-4d2b-8637-2adb91054d17",
   "metadata": {},
   "source": [
    "## Section 1 Predictive Modeling (50%)\n",
    "Choose three machine learning algorithms that you have studied throughout the course to conduct\n",
    "predictive analytics for used car price (i.e., the target variable is “price”). Your answer should include the\n",
    "following aspects (discussion & operations in Python):"
   ]
  },
  {
   "cell_type": "markdown",
   "id": "f89e6b01-5b76-4b67-a0b4-97e3dbcd1495",
   "metadata": {},
   "source": [
    "### Question 1. \n",
    "**Provide a brief introduction to the selected algorithms, explaining their nature, why they are appropriate for this project, and how they function. (15)** "
   ]
  },
  {
   "cell_type": "markdown",
   "id": "ed69c9df-8226-4396-b4c2-92e4d87b079a",
   "metadata": {},
   "source": [
    "**Answer:**\n",
    "\n",
    "In this project, I will apply three different machine learning algorithms to predict used car prices:\n",
    "\n",
    "`Linear Regression (Ridge Regression)` `Decision Tree (CART)` and `Tree-Based Ensemble Learning (Random Forest)`.\n",
    "\n",
    "All three are supervised learning algorithms used for regression tasks. The goal is to learn patterns from historical car data to forecast futurecar prices supporting business decisions. Since the target variable, price, is a  numeric value, all three selected algorithms will be applied as regression models to perform this predictive analytic\n",
    "\n",
    "\n",
    "**1. Ridge Regression**: \n",
    "\n",
    "`Linear Regression` assumes a straight line relationship between the input varibale and the output vairbale and is a powerful machine learning algorithm to predict price based on past data. The algorithmen does that by learning coefficients, which are numbers that represent how much each variable affects the  final prediction. \n",
    "\n",
    "In this project, i use `Ridge Regression`, which works the same way as `Linear Regression`, but adds an penalty when the coefficient becomee to large. This reduce the risk of overfitting and makes it a more stable an reliable alternative. `Ridge Regression` works well in our context because some variables like `mileage`, `engine_size`, and `reg_year `often have linear relationships with car price. The model is simple to understand and offers a good interpretability, and therefore i pick it as my first model.\n",
    "\n",
    "**2. Decision tree CART**: \n",
    "\n",
    "A `Decision Tree` is a machine learning model that makes predictions by following a sequence of conditional steps like a series of nested if-else statements. A decision tree consist of three nodes the root, Interior and Leaf node. The tree starts at a root node, continues through interior nodes (each representing a decision), and ends with a leaf node that contains the final predictiaion. \n",
    "\n",
    "The `CART` algorithm is a specific version of a decision tree that improves the process by using statistical criteria. For regression tasks, `CART` uses mean squared error (MSE) to find the best possible splits. It also always divide the tree into two branches (binary splits), which keeps the model consistent and easier to manage. `CART` furthermore support nummerical values making it ideal for predicting furutre car prices.\n",
    "\n",
    "Unlike `Ridge`, this model does not assume linearity and can capture more complex relationships, such as how the effect of mileage may vary with brand or fuel type. However, a single tree can overfit, which leads to our next model.\n",
    "\n",
    "**3. Random Forest**:\n",
    "\n",
    "`Tree-based esemble` learning combines multiple decision trees to build a more accurate and stable prediction model. The main idea is that a group of trees can perform better when combined than any single tree on its own. The aim with this approach is to reduce overfitting in the prediction, which is a common issue in individual decision trees.\n",
    "\n",
    "In the context of this project, `Random Forrest` is a strong choice because it builds many decision trees on different random subsets of the data and averages their predictions. This process reduces variance and improves generalization by having many simple trees vote together instead of relying on just one. `Random Forrest` is especially useful for capturing complex and non linear relationships between car features and price, without becoming too sensitive to outliers or noise in the dataset. However, compared to a single decision tree, `Random Forrest` is less interpretable and can also be computationally heavier when working with large datasets.\n",
    "\n",
    "**Evaluation Metrics**   \n",
    "To evaluate model performance, I will use the following metrics:  \n",
    "- R² (R-squared): Shows how much of the variation in car prices the model can explain.\n",
    "- MSE (Mean Squared Error):\n",
    "Measures the average of the squared differences between predicted and actual prices.\n",
    "- MAE (Mean Absolute Error):\n",
    "Shows the average prediction error in euro terms."
   ]
  },
  {
   "cell_type": "markdown",
   "id": "cf043a8b-f47f-4236-a792-b8cd3df47ac3",
   "metadata": {},
   "source": [
    "### Question 2. \n",
    "**Describe and show the key stages of how you implement these algorithms in Python.(30%)**\n",
    "\n",
    "Answer:"
   ]
  },
  {
   "cell_type": "code",
   "execution_count": 51,
   "id": "f80e4cd9-e163-4cbb-b9b4-263328b5710c",
   "metadata": {},
   "outputs": [],
   "source": [
    "# Define input features and target variable\n",
    "features = [ \"reg_year\", \"runned_miles\", \"engin_size\", \"fuel_type\", \"gearbox\", \n",
    "            \"bodytype\", \"maker\", \"seat_num\", \"door_num\"]\n",
    "\n",
    "X = df[features]\n",
    "y = df[\"price\"]\n",
    "\n",
    "# Encode categorical variables\n",
    "X_encoded = pd.get_dummies(X, drop_first=True)\n"
   ]
  },
  {
   "cell_type": "code",
   "execution_count": 52,
   "id": "ccd8de13-b5fb-46e3-ade4-d9435d781dba",
   "metadata": {},
   "outputs": [],
   "source": [
    "# Train and test split + adding test size and random seed number \n",
    "from sklearn.model_selection import train_test_split\n",
    "\n",
    "random_seed_num= 20\n",
    "\n",
    "X_train, X_test, y_train, y_test = train_test_split(\n",
    "    X_encoded, y, test_size=0.4, random_state= random_seed_num)"
   ]
  },
  {
   "cell_type": "markdown",
   "id": "731236c5-7e0b-4c9b-88c9-37f6573bb299",
   "metadata": {},
   "source": [
    "To conduct predictive analytics for the target variable `price`, I selected a set of input features that are expected to influence car prices: `reg_year`, `runned_miles`, `engin_size`, `fuel_type`, `gearbox`, `bodytype`, `maker`, `seat_num` & `door_num`.\n",
    "\n",
    "Since models like reggression algortims require numeric inputs, I used `pd.get_dummies()` to convert these categorical features into binary variables. This allows the models to use them properly in the training process.\n",
    "\n",
    "Before training the models, I therefor encoded all categorical variables using one-hot encoding. This includes features like `fuel_type`, `gearbox`, `bodytype`, `maker`, `seat_num`, and `door_num`."
   ]
  },
  {
   "cell_type": "markdown",
   "id": "c8110051-dd6c-40e6-8e25-1b14c32d3213",
   "metadata": {},
   "source": [
    "**1. Ridge Regression**:"
   ]
  },
  {
   "cell_type": "code",
   "execution_count": 53,
   "id": "37cc8582-bb1f-45f2-9957-1fa165f67568",
   "metadata": {},
   "outputs": [],
   "source": [
    "# Import ridge regression with cross-validation\n",
    "from sklearn.linear_model import RidgeCV\n",
    "\n",
    "#import evaluation metrics\n",
    "from sklearn.metrics import r2_score, mean_absolute_error, mean_squared_error\n"
   ]
  },
  {
   "cell_type": "code",
   "execution_count": 54,
   "id": "ef15cddb-32ec-4bb8-87c9-f2e7297c487b",
   "metadata": {},
   "outputs": [],
   "source": [
    "# RidgeCV selects the best alpha using internal cross validation\n",
    "ridge = RidgeCV(alphas=[0.5, 0.6, 0.7, 0.8])\n",
    "ridge.fit(X_train, y_train)\n",
    "\n",
    "# Predict on both training and test sets\n",
    "ridge_preds_train = ridge.predict(X_train)\n",
    "ridge_preds_test = ridge.predict(X_test)\n"
   ]
  },
  {
   "cell_type": "code",
   "execution_count": 55,
   "id": "d2846d01-c0c1-4d6a-a2cd-c7944612af08",
   "metadata": {},
   "outputs": [
    {
     "name": "stdout",
     "output_type": "stream",
     "text": [
      "Training Performance:\n",
      "\n",
      "Ridge - MSE: 32140378.32\n",
      "Ridge - R²:  0.722\n",
      "\n",
      "\n",
      "Test Performance:\n",
      "\n",
      "Ridge - MSE: 32649335.09\n",
      "Ridge - R²:  0.721\n",
      "Ridge - MAE: 3339.10\n",
      "\n",
      "Selected Alpha: 0.8\n"
     ]
    }
   ],
   "source": [
    "print(\"Training Performance:\\n\")\n",
    "print(\"Ridge - MSE: %0.2f\" % mean_squared_error(y_train, ridge_preds_train))\n",
    "print(\"Ridge - R²:  %0.3f\" % r2_score(y_train, ridge_preds_train))\n",
    "\n",
    "print(\"\\n\")\n",
    "\n",
    "print(\"Test Performance:\\n\")\n",
    "print(\"Ridge - MSE: %0.2f\" % mean_squared_error(y_test, ridge_preds_test))\n",
    "print(\"Ridge - R²:  %0.3f\" % r2_score(y_test, ridge_preds_test))\n",
    "print(\"Ridge - MAE: %0.2f\" % mean_absolute_error(y_test, ridge_preds_test))\n",
    "\n",
    "print(\"\\nSelected Alpha:\", ridge.alpha_)"
   ]
  },
  {
   "cell_type": "markdown",
   "id": "ec8f29e4-088d-43b7-9f51-13902793a2ab",
   "metadata": {},
   "source": [
    "The model was trained using internal cross validation to select the best regularization strength. `RidgeCV` automatically picked the optimal alpha 0,8 after testing it with the values [0.5, 0.6, 0.7, 0.8]. This way we balanced the models bias-variance tradeoff by preventing overfitting.\n",
    "\n",
    "This result means that the model explains over 72% of the variation in car prices and typically predicts within €3,300 of actual sale prices. The MSE of ~18.2 million reflects a moderate level of error, acceptable for a linear model baseline."
   ]
  },
  {
   "cell_type": "markdown",
   "id": "7655e958-d4fb-4dc2-8ea3-583a3fb6d2f8",
   "metadata": {},
   "source": [
    "**2. Decision Tree Regression (CART):**"
   ]
  },
  {
   "cell_type": "code",
   "execution_count": 56,
   "id": "e1cb4865-652e-44b7-8d95-331553b7bf18",
   "metadata": {},
   "outputs": [
    {
     "data": {
      "text/html": [
       "<style>#sk-container-id-1 {\n",
       "  /* Definition of color scheme common for light and dark mode */\n",
       "  --sklearn-color-text: #000;\n",
       "  --sklearn-color-text-muted: #666;\n",
       "  --sklearn-color-line: gray;\n",
       "  /* Definition of color scheme for unfitted estimators */\n",
       "  --sklearn-color-unfitted-level-0: #fff5e6;\n",
       "  --sklearn-color-unfitted-level-1: #f6e4d2;\n",
       "  --sklearn-color-unfitted-level-2: #ffe0b3;\n",
       "  --sklearn-color-unfitted-level-3: chocolate;\n",
       "  /* Definition of color scheme for fitted estimators */\n",
       "  --sklearn-color-fitted-level-0: #f0f8ff;\n",
       "  --sklearn-color-fitted-level-1: #d4ebff;\n",
       "  --sklearn-color-fitted-level-2: #b3dbfd;\n",
       "  --sklearn-color-fitted-level-3: cornflowerblue;\n",
       "\n",
       "  /* Specific color for light theme */\n",
       "  --sklearn-color-text-on-default-background: var(--sg-text-color, var(--theme-code-foreground, var(--jp-content-font-color1, black)));\n",
       "  --sklearn-color-background: var(--sg-background-color, var(--theme-background, var(--jp-layout-color0, white)));\n",
       "  --sklearn-color-border-box: var(--sg-text-color, var(--theme-code-foreground, var(--jp-content-font-color1, black)));\n",
       "  --sklearn-color-icon: #696969;\n",
       "\n",
       "  @media (prefers-color-scheme: dark) {\n",
       "    /* Redefinition of color scheme for dark theme */\n",
       "    --sklearn-color-text-on-default-background: var(--sg-text-color, var(--theme-code-foreground, var(--jp-content-font-color1, white)));\n",
       "    --sklearn-color-background: var(--sg-background-color, var(--theme-background, var(--jp-layout-color0, #111)));\n",
       "    --sklearn-color-border-box: var(--sg-text-color, var(--theme-code-foreground, var(--jp-content-font-color1, white)));\n",
       "    --sklearn-color-icon: #878787;\n",
       "  }\n",
       "}\n",
       "\n",
       "#sk-container-id-1 {\n",
       "  color: var(--sklearn-color-text);\n",
       "}\n",
       "\n",
       "#sk-container-id-1 pre {\n",
       "  padding: 0;\n",
       "}\n",
       "\n",
       "#sk-container-id-1 input.sk-hidden--visually {\n",
       "  border: 0;\n",
       "  clip: rect(1px 1px 1px 1px);\n",
       "  clip: rect(1px, 1px, 1px, 1px);\n",
       "  height: 1px;\n",
       "  margin: -1px;\n",
       "  overflow: hidden;\n",
       "  padding: 0;\n",
       "  position: absolute;\n",
       "  width: 1px;\n",
       "}\n",
       "\n",
       "#sk-container-id-1 div.sk-dashed-wrapped {\n",
       "  border: 1px dashed var(--sklearn-color-line);\n",
       "  margin: 0 0.4em 0.5em 0.4em;\n",
       "  box-sizing: border-box;\n",
       "  padding-bottom: 0.4em;\n",
       "  background-color: var(--sklearn-color-background);\n",
       "}\n",
       "\n",
       "#sk-container-id-1 div.sk-container {\n",
       "  /* jupyter's `normalize.less` sets `[hidden] { display: none; }`\n",
       "     but bootstrap.min.css set `[hidden] { display: none !important; }`\n",
       "     so we also need the `!important` here to be able to override the\n",
       "     default hidden behavior on the sphinx rendered scikit-learn.org.\n",
       "     See: https://github.com/scikit-learn/scikit-learn/issues/21755 */\n",
       "  display: inline-block !important;\n",
       "  position: relative;\n",
       "}\n",
       "\n",
       "#sk-container-id-1 div.sk-text-repr-fallback {\n",
       "  display: none;\n",
       "}\n",
       "\n",
       "div.sk-parallel-item,\n",
       "div.sk-serial,\n",
       "div.sk-item {\n",
       "  /* draw centered vertical line to link estimators */\n",
       "  background-image: linear-gradient(var(--sklearn-color-text-on-default-background), var(--sklearn-color-text-on-default-background));\n",
       "  background-size: 2px 100%;\n",
       "  background-repeat: no-repeat;\n",
       "  background-position: center center;\n",
       "}\n",
       "\n",
       "/* Parallel-specific style estimator block */\n",
       "\n",
       "#sk-container-id-1 div.sk-parallel-item::after {\n",
       "  content: \"\";\n",
       "  width: 100%;\n",
       "  border-bottom: 2px solid var(--sklearn-color-text-on-default-background);\n",
       "  flex-grow: 1;\n",
       "}\n",
       "\n",
       "#sk-container-id-1 div.sk-parallel {\n",
       "  display: flex;\n",
       "  align-items: stretch;\n",
       "  justify-content: center;\n",
       "  background-color: var(--sklearn-color-background);\n",
       "  position: relative;\n",
       "}\n",
       "\n",
       "#sk-container-id-1 div.sk-parallel-item {\n",
       "  display: flex;\n",
       "  flex-direction: column;\n",
       "}\n",
       "\n",
       "#sk-container-id-1 div.sk-parallel-item:first-child::after {\n",
       "  align-self: flex-end;\n",
       "  width: 50%;\n",
       "}\n",
       "\n",
       "#sk-container-id-1 div.sk-parallel-item:last-child::after {\n",
       "  align-self: flex-start;\n",
       "  width: 50%;\n",
       "}\n",
       "\n",
       "#sk-container-id-1 div.sk-parallel-item:only-child::after {\n",
       "  width: 0;\n",
       "}\n",
       "\n",
       "/* Serial-specific style estimator block */\n",
       "\n",
       "#sk-container-id-1 div.sk-serial {\n",
       "  display: flex;\n",
       "  flex-direction: column;\n",
       "  align-items: center;\n",
       "  background-color: var(--sklearn-color-background);\n",
       "  padding-right: 1em;\n",
       "  padding-left: 1em;\n",
       "}\n",
       "\n",
       "\n",
       "/* Toggleable style: style used for estimator/Pipeline/ColumnTransformer box that is\n",
       "clickable and can be expanded/collapsed.\n",
       "- Pipeline and ColumnTransformer use this feature and define the default style\n",
       "- Estimators will overwrite some part of the style using the `sk-estimator` class\n",
       "*/\n",
       "\n",
       "/* Pipeline and ColumnTransformer style (default) */\n",
       "\n",
       "#sk-container-id-1 div.sk-toggleable {\n",
       "  /* Default theme specific background. It is overwritten whether we have a\n",
       "  specific estimator or a Pipeline/ColumnTransformer */\n",
       "  background-color: var(--sklearn-color-background);\n",
       "}\n",
       "\n",
       "/* Toggleable label */\n",
       "#sk-container-id-1 label.sk-toggleable__label {\n",
       "  cursor: pointer;\n",
       "  display: flex;\n",
       "  width: 100%;\n",
       "  margin-bottom: 0;\n",
       "  padding: 0.5em;\n",
       "  box-sizing: border-box;\n",
       "  text-align: center;\n",
       "  align-items: start;\n",
       "  justify-content: space-between;\n",
       "  gap: 0.5em;\n",
       "}\n",
       "\n",
       "#sk-container-id-1 label.sk-toggleable__label .caption {\n",
       "  font-size: 0.6rem;\n",
       "  font-weight: lighter;\n",
       "  color: var(--sklearn-color-text-muted);\n",
       "}\n",
       "\n",
       "#sk-container-id-1 label.sk-toggleable__label-arrow:before {\n",
       "  /* Arrow on the left of the label */\n",
       "  content: \"▸\";\n",
       "  float: left;\n",
       "  margin-right: 0.25em;\n",
       "  color: var(--sklearn-color-icon);\n",
       "}\n",
       "\n",
       "#sk-container-id-1 label.sk-toggleable__label-arrow:hover:before {\n",
       "  color: var(--sklearn-color-text);\n",
       "}\n",
       "\n",
       "/* Toggleable content - dropdown */\n",
       "\n",
       "#sk-container-id-1 div.sk-toggleable__content {\n",
       "  max-height: 0;\n",
       "  max-width: 0;\n",
       "  overflow: hidden;\n",
       "  text-align: left;\n",
       "  /* unfitted */\n",
       "  background-color: var(--sklearn-color-unfitted-level-0);\n",
       "}\n",
       "\n",
       "#sk-container-id-1 div.sk-toggleable__content.fitted {\n",
       "  /* fitted */\n",
       "  background-color: var(--sklearn-color-fitted-level-0);\n",
       "}\n",
       "\n",
       "#sk-container-id-1 div.sk-toggleable__content pre {\n",
       "  margin: 0.2em;\n",
       "  border-radius: 0.25em;\n",
       "  color: var(--sklearn-color-text);\n",
       "  /* unfitted */\n",
       "  background-color: var(--sklearn-color-unfitted-level-0);\n",
       "}\n",
       "\n",
       "#sk-container-id-1 div.sk-toggleable__content.fitted pre {\n",
       "  /* unfitted */\n",
       "  background-color: var(--sklearn-color-fitted-level-0);\n",
       "}\n",
       "\n",
       "#sk-container-id-1 input.sk-toggleable__control:checked~div.sk-toggleable__content {\n",
       "  /* Expand drop-down */\n",
       "  max-height: 200px;\n",
       "  max-width: 100%;\n",
       "  overflow: auto;\n",
       "}\n",
       "\n",
       "#sk-container-id-1 input.sk-toggleable__control:checked~label.sk-toggleable__label-arrow:before {\n",
       "  content: \"▾\";\n",
       "}\n",
       "\n",
       "/* Pipeline/ColumnTransformer-specific style */\n",
       "\n",
       "#sk-container-id-1 div.sk-label input.sk-toggleable__control:checked~label.sk-toggleable__label {\n",
       "  color: var(--sklearn-color-text);\n",
       "  background-color: var(--sklearn-color-unfitted-level-2);\n",
       "}\n",
       "\n",
       "#sk-container-id-1 div.sk-label.fitted input.sk-toggleable__control:checked~label.sk-toggleable__label {\n",
       "  background-color: var(--sklearn-color-fitted-level-2);\n",
       "}\n",
       "\n",
       "/* Estimator-specific style */\n",
       "\n",
       "/* Colorize estimator box */\n",
       "#sk-container-id-1 div.sk-estimator input.sk-toggleable__control:checked~label.sk-toggleable__label {\n",
       "  /* unfitted */\n",
       "  background-color: var(--sklearn-color-unfitted-level-2);\n",
       "}\n",
       "\n",
       "#sk-container-id-1 div.sk-estimator.fitted input.sk-toggleable__control:checked~label.sk-toggleable__label {\n",
       "  /* fitted */\n",
       "  background-color: var(--sklearn-color-fitted-level-2);\n",
       "}\n",
       "\n",
       "#sk-container-id-1 div.sk-label label.sk-toggleable__label,\n",
       "#sk-container-id-1 div.sk-label label {\n",
       "  /* The background is the default theme color */\n",
       "  color: var(--sklearn-color-text-on-default-background);\n",
       "}\n",
       "\n",
       "/* On hover, darken the color of the background */\n",
       "#sk-container-id-1 div.sk-label:hover label.sk-toggleable__label {\n",
       "  color: var(--sklearn-color-text);\n",
       "  background-color: var(--sklearn-color-unfitted-level-2);\n",
       "}\n",
       "\n",
       "/* Label box, darken color on hover, fitted */\n",
       "#sk-container-id-1 div.sk-label.fitted:hover label.sk-toggleable__label.fitted {\n",
       "  color: var(--sklearn-color-text);\n",
       "  background-color: var(--sklearn-color-fitted-level-2);\n",
       "}\n",
       "\n",
       "/* Estimator label */\n",
       "\n",
       "#sk-container-id-1 div.sk-label label {\n",
       "  font-family: monospace;\n",
       "  font-weight: bold;\n",
       "  display: inline-block;\n",
       "  line-height: 1.2em;\n",
       "}\n",
       "\n",
       "#sk-container-id-1 div.sk-label-container {\n",
       "  text-align: center;\n",
       "}\n",
       "\n",
       "/* Estimator-specific */\n",
       "#sk-container-id-1 div.sk-estimator {\n",
       "  font-family: monospace;\n",
       "  border: 1px dotted var(--sklearn-color-border-box);\n",
       "  border-radius: 0.25em;\n",
       "  box-sizing: border-box;\n",
       "  margin-bottom: 0.5em;\n",
       "  /* unfitted */\n",
       "  background-color: var(--sklearn-color-unfitted-level-0);\n",
       "}\n",
       "\n",
       "#sk-container-id-1 div.sk-estimator.fitted {\n",
       "  /* fitted */\n",
       "  background-color: var(--sklearn-color-fitted-level-0);\n",
       "}\n",
       "\n",
       "/* on hover */\n",
       "#sk-container-id-1 div.sk-estimator:hover {\n",
       "  /* unfitted */\n",
       "  background-color: var(--sklearn-color-unfitted-level-2);\n",
       "}\n",
       "\n",
       "#sk-container-id-1 div.sk-estimator.fitted:hover {\n",
       "  /* fitted */\n",
       "  background-color: var(--sklearn-color-fitted-level-2);\n",
       "}\n",
       "\n",
       "/* Specification for estimator info (e.g. \"i\" and \"?\") */\n",
       "\n",
       "/* Common style for \"i\" and \"?\" */\n",
       "\n",
       ".sk-estimator-doc-link,\n",
       "a:link.sk-estimator-doc-link,\n",
       "a:visited.sk-estimator-doc-link {\n",
       "  float: right;\n",
       "  font-size: smaller;\n",
       "  line-height: 1em;\n",
       "  font-family: monospace;\n",
       "  background-color: var(--sklearn-color-background);\n",
       "  border-radius: 1em;\n",
       "  height: 1em;\n",
       "  width: 1em;\n",
       "  text-decoration: none !important;\n",
       "  margin-left: 0.5em;\n",
       "  text-align: center;\n",
       "  /* unfitted */\n",
       "  border: var(--sklearn-color-unfitted-level-1) 1pt solid;\n",
       "  color: var(--sklearn-color-unfitted-level-1);\n",
       "}\n",
       "\n",
       ".sk-estimator-doc-link.fitted,\n",
       "a:link.sk-estimator-doc-link.fitted,\n",
       "a:visited.sk-estimator-doc-link.fitted {\n",
       "  /* fitted */\n",
       "  border: var(--sklearn-color-fitted-level-1) 1pt solid;\n",
       "  color: var(--sklearn-color-fitted-level-1);\n",
       "}\n",
       "\n",
       "/* On hover */\n",
       "div.sk-estimator:hover .sk-estimator-doc-link:hover,\n",
       ".sk-estimator-doc-link:hover,\n",
       "div.sk-label-container:hover .sk-estimator-doc-link:hover,\n",
       ".sk-estimator-doc-link:hover {\n",
       "  /* unfitted */\n",
       "  background-color: var(--sklearn-color-unfitted-level-3);\n",
       "  color: var(--sklearn-color-background);\n",
       "  text-decoration: none;\n",
       "}\n",
       "\n",
       "div.sk-estimator.fitted:hover .sk-estimator-doc-link.fitted:hover,\n",
       ".sk-estimator-doc-link.fitted:hover,\n",
       "div.sk-label-container:hover .sk-estimator-doc-link.fitted:hover,\n",
       ".sk-estimator-doc-link.fitted:hover {\n",
       "  /* fitted */\n",
       "  background-color: var(--sklearn-color-fitted-level-3);\n",
       "  color: var(--sklearn-color-background);\n",
       "  text-decoration: none;\n",
       "}\n",
       "\n",
       "/* Span, style for the box shown on hovering the info icon */\n",
       ".sk-estimator-doc-link span {\n",
       "  display: none;\n",
       "  z-index: 9999;\n",
       "  position: relative;\n",
       "  font-weight: normal;\n",
       "  right: .2ex;\n",
       "  padding: .5ex;\n",
       "  margin: .5ex;\n",
       "  width: min-content;\n",
       "  min-width: 20ex;\n",
       "  max-width: 50ex;\n",
       "  color: var(--sklearn-color-text);\n",
       "  box-shadow: 2pt 2pt 4pt #999;\n",
       "  /* unfitted */\n",
       "  background: var(--sklearn-color-unfitted-level-0);\n",
       "  border: .5pt solid var(--sklearn-color-unfitted-level-3);\n",
       "}\n",
       "\n",
       ".sk-estimator-doc-link.fitted span {\n",
       "  /* fitted */\n",
       "  background: var(--sklearn-color-fitted-level-0);\n",
       "  border: var(--sklearn-color-fitted-level-3);\n",
       "}\n",
       "\n",
       ".sk-estimator-doc-link:hover span {\n",
       "  display: block;\n",
       "}\n",
       "\n",
       "/* \"?\"-specific style due to the `<a>` HTML tag */\n",
       "\n",
       "#sk-container-id-1 a.estimator_doc_link {\n",
       "  float: right;\n",
       "  font-size: 1rem;\n",
       "  line-height: 1em;\n",
       "  font-family: monospace;\n",
       "  background-color: var(--sklearn-color-background);\n",
       "  border-radius: 1rem;\n",
       "  height: 1rem;\n",
       "  width: 1rem;\n",
       "  text-decoration: none;\n",
       "  /* unfitted */\n",
       "  color: var(--sklearn-color-unfitted-level-1);\n",
       "  border: var(--sklearn-color-unfitted-level-1) 1pt solid;\n",
       "}\n",
       "\n",
       "#sk-container-id-1 a.estimator_doc_link.fitted {\n",
       "  /* fitted */\n",
       "  border: var(--sklearn-color-fitted-level-1) 1pt solid;\n",
       "  color: var(--sklearn-color-fitted-level-1);\n",
       "}\n",
       "\n",
       "/* On hover */\n",
       "#sk-container-id-1 a.estimator_doc_link:hover {\n",
       "  /* unfitted */\n",
       "  background-color: var(--sklearn-color-unfitted-level-3);\n",
       "  color: var(--sklearn-color-background);\n",
       "  text-decoration: none;\n",
       "}\n",
       "\n",
       "#sk-container-id-1 a.estimator_doc_link.fitted:hover {\n",
       "  /* fitted */\n",
       "  background-color: var(--sklearn-color-fitted-level-3);\n",
       "}\n",
       "</style><div id=\"sk-container-id-1\" class=\"sk-top-container\"><div class=\"sk-text-repr-fallback\"><pre>DecisionTreeRegressor(max_depth=5, min_samples_leaf=4, random_state=20)</pre><b>In a Jupyter environment, please rerun this cell to show the HTML representation or trust the notebook. <br />On GitHub, the HTML representation is unable to render, please try loading this page with nbviewer.org.</b></div><div class=\"sk-container\" hidden><div class=\"sk-item\"><div class=\"sk-estimator fitted sk-toggleable\"><input class=\"sk-toggleable__control sk-hidden--visually\" id=\"sk-estimator-id-1\" type=\"checkbox\" checked><label for=\"sk-estimator-id-1\" class=\"sk-toggleable__label fitted sk-toggleable__label-arrow\"><div><div>DecisionTreeRegressor</div></div><div><a class=\"sk-estimator-doc-link fitted\" rel=\"noreferrer\" target=\"_blank\" href=\"https://scikit-learn.org/1.6/modules/generated/sklearn.tree.DecisionTreeRegressor.html\">?<span>Documentation for DecisionTreeRegressor</span></a><span class=\"sk-estimator-doc-link fitted\">i<span>Fitted</span></span></div></label><div class=\"sk-toggleable__content fitted\"><pre>DecisionTreeRegressor(max_depth=5, min_samples_leaf=4, random_state=20)</pre></div> </div></div></div></div>"
      ],
      "text/plain": [
       "DecisionTreeRegressor(max_depth=5, min_samples_leaf=4, random_state=20)"
      ]
     },
     "execution_count": 56,
     "metadata": {},
     "output_type": "execute_result"
    }
   ],
   "source": [
    "# Import decision tree regressor (CART) library\n",
    "from sklearn.tree import DecisionTreeRegressor\n",
    "\n",
    "# Use random seed number\n",
    "random_seed_num= 20\n",
    "\n",
    "# Initialize and fit the model\n",
    "cart = DecisionTreeRegressor(max_depth=5, min_samples_leaf=4, random_state=random_seed_num)\n",
    "cart.fit(X_train, y_train)\n"
   ]
  },
  {
   "cell_type": "code",
   "execution_count": 57,
   "id": "b0abca0b-61d4-4a0f-a1a4-902d78224019",
   "metadata": {},
   "outputs": [
    {
     "name": "stdout",
     "output_type": "stream",
     "text": [
      "Training Performance:\n",
      "\n",
      "Decision Tree - MSE: 12683145.83\n",
      "Decision Tree - R²:  0.890\n",
      "\n",
      "\n",
      "Test Performance:\n",
      "\n",
      "Decision Tree - MSE: 14596604.94\n",
      "Decision Tree - R²:  0.875\n"
     ]
    }
   ],
   "source": [
    "#import evaluation metrics\n",
    "from sklearn.metrics import r2_score, mean_squared_error\n",
    "\n",
    "# Predict on test set\n",
    "cart_preds_test = cart.predict(X_test)\n",
    "cart_preds_train = cart.predict(X_train)\n",
    "\n",
    "print(\"Training Performance:\\n\")\n",
    "print(\"Decision Tree - MSE: %0.2f\" % mean_squared_error(y_train, cart_preds_train))\n",
    "print(\"Decision Tree - R²:  %0.3f\" % r2_score(y_train, cart_preds_train))\n",
    "\n",
    "print(\"\\n\")\n",
    "\n",
    "print(\"Test Performance:\\n\")\n",
    "print(\"Decision Tree - MSE: %0.2f\" % mean_squared_error(y_test, cart_preds_test))\n",
    "print(\"Decision Tree - R²:  %0.3f\" % r2_score(y_test, cart_preds_test))\n",
    "\n"
   ]
  },
  {
   "cell_type": "markdown",
   "id": "a4b67c0e-3e43-4c34-b455-6187f1b2d530",
   "metadata": {},
   "source": [
    "I began by training the model CART using the default parameters from `import DecisionTreeRegressor` which gave the results: Training R²: 0.998 & Test R²: 0.941\n",
    "  \n",
    "Although R² closer to 1 is generally ideal, this gap between training and test scores signals overfitting. \n",
    "\n",
    "By default the parameters using `import DecisionTreeRegressor` is max_depth=None, min_samples_leaf=1 etc. \n",
    "\n",
    "To address this, I manually finetuned:\n",
    "- max_depth = 5: restricts tree depth to limit complexity\n",
    "- min_samples_leaf = 4: requires each leaf to have at least 4 samples to ensure stability\n",
    "\n",
    "While the training performance dropped slightly, the generalization improved, leading to a more balanced and reliable model. \n",
    "\n",
    "This final result means the model explains around 88% of the variation in car prices. The MSE of ~14.6 million reflects the average squared difference between predicted and actual values, summarizing the models overall prediction error across the dataset.\n",
    "\n"
   ]
  },
  {
   "cell_type": "markdown",
   "id": "58c0aa22-ad40-426e-a00e-d19e28fedb43",
   "metadata": {},
   "source": [
    "**3. Random Forest**"
   ]
  },
  {
   "cell_type": "code",
   "execution_count": 58,
   "id": "f86669b0-4dd3-41f5-b494-66724e7040af",
   "metadata": {},
   "outputs": [
    {
     "data": {
      "text/html": [
       "<style>#sk-container-id-2 {\n",
       "  /* Definition of color scheme common for light and dark mode */\n",
       "  --sklearn-color-text: #000;\n",
       "  --sklearn-color-text-muted: #666;\n",
       "  --sklearn-color-line: gray;\n",
       "  /* Definition of color scheme for unfitted estimators */\n",
       "  --sklearn-color-unfitted-level-0: #fff5e6;\n",
       "  --sklearn-color-unfitted-level-1: #f6e4d2;\n",
       "  --sklearn-color-unfitted-level-2: #ffe0b3;\n",
       "  --sklearn-color-unfitted-level-3: chocolate;\n",
       "  /* Definition of color scheme for fitted estimators */\n",
       "  --sklearn-color-fitted-level-0: #f0f8ff;\n",
       "  --sklearn-color-fitted-level-1: #d4ebff;\n",
       "  --sklearn-color-fitted-level-2: #b3dbfd;\n",
       "  --sklearn-color-fitted-level-3: cornflowerblue;\n",
       "\n",
       "  /* Specific color for light theme */\n",
       "  --sklearn-color-text-on-default-background: var(--sg-text-color, var(--theme-code-foreground, var(--jp-content-font-color1, black)));\n",
       "  --sklearn-color-background: var(--sg-background-color, var(--theme-background, var(--jp-layout-color0, white)));\n",
       "  --sklearn-color-border-box: var(--sg-text-color, var(--theme-code-foreground, var(--jp-content-font-color1, black)));\n",
       "  --sklearn-color-icon: #696969;\n",
       "\n",
       "  @media (prefers-color-scheme: dark) {\n",
       "    /* Redefinition of color scheme for dark theme */\n",
       "    --sklearn-color-text-on-default-background: var(--sg-text-color, var(--theme-code-foreground, var(--jp-content-font-color1, white)));\n",
       "    --sklearn-color-background: var(--sg-background-color, var(--theme-background, var(--jp-layout-color0, #111)));\n",
       "    --sklearn-color-border-box: var(--sg-text-color, var(--theme-code-foreground, var(--jp-content-font-color1, white)));\n",
       "    --sklearn-color-icon: #878787;\n",
       "  }\n",
       "}\n",
       "\n",
       "#sk-container-id-2 {\n",
       "  color: var(--sklearn-color-text);\n",
       "}\n",
       "\n",
       "#sk-container-id-2 pre {\n",
       "  padding: 0;\n",
       "}\n",
       "\n",
       "#sk-container-id-2 input.sk-hidden--visually {\n",
       "  border: 0;\n",
       "  clip: rect(1px 1px 1px 1px);\n",
       "  clip: rect(1px, 1px, 1px, 1px);\n",
       "  height: 1px;\n",
       "  margin: -1px;\n",
       "  overflow: hidden;\n",
       "  padding: 0;\n",
       "  position: absolute;\n",
       "  width: 1px;\n",
       "}\n",
       "\n",
       "#sk-container-id-2 div.sk-dashed-wrapped {\n",
       "  border: 1px dashed var(--sklearn-color-line);\n",
       "  margin: 0 0.4em 0.5em 0.4em;\n",
       "  box-sizing: border-box;\n",
       "  padding-bottom: 0.4em;\n",
       "  background-color: var(--sklearn-color-background);\n",
       "}\n",
       "\n",
       "#sk-container-id-2 div.sk-container {\n",
       "  /* jupyter's `normalize.less` sets `[hidden] { display: none; }`\n",
       "     but bootstrap.min.css set `[hidden] { display: none !important; }`\n",
       "     so we also need the `!important` here to be able to override the\n",
       "     default hidden behavior on the sphinx rendered scikit-learn.org.\n",
       "     See: https://github.com/scikit-learn/scikit-learn/issues/21755 */\n",
       "  display: inline-block !important;\n",
       "  position: relative;\n",
       "}\n",
       "\n",
       "#sk-container-id-2 div.sk-text-repr-fallback {\n",
       "  display: none;\n",
       "}\n",
       "\n",
       "div.sk-parallel-item,\n",
       "div.sk-serial,\n",
       "div.sk-item {\n",
       "  /* draw centered vertical line to link estimators */\n",
       "  background-image: linear-gradient(var(--sklearn-color-text-on-default-background), var(--sklearn-color-text-on-default-background));\n",
       "  background-size: 2px 100%;\n",
       "  background-repeat: no-repeat;\n",
       "  background-position: center center;\n",
       "}\n",
       "\n",
       "/* Parallel-specific style estimator block */\n",
       "\n",
       "#sk-container-id-2 div.sk-parallel-item::after {\n",
       "  content: \"\";\n",
       "  width: 100%;\n",
       "  border-bottom: 2px solid var(--sklearn-color-text-on-default-background);\n",
       "  flex-grow: 1;\n",
       "}\n",
       "\n",
       "#sk-container-id-2 div.sk-parallel {\n",
       "  display: flex;\n",
       "  align-items: stretch;\n",
       "  justify-content: center;\n",
       "  background-color: var(--sklearn-color-background);\n",
       "  position: relative;\n",
       "}\n",
       "\n",
       "#sk-container-id-2 div.sk-parallel-item {\n",
       "  display: flex;\n",
       "  flex-direction: column;\n",
       "}\n",
       "\n",
       "#sk-container-id-2 div.sk-parallel-item:first-child::after {\n",
       "  align-self: flex-end;\n",
       "  width: 50%;\n",
       "}\n",
       "\n",
       "#sk-container-id-2 div.sk-parallel-item:last-child::after {\n",
       "  align-self: flex-start;\n",
       "  width: 50%;\n",
       "}\n",
       "\n",
       "#sk-container-id-2 div.sk-parallel-item:only-child::after {\n",
       "  width: 0;\n",
       "}\n",
       "\n",
       "/* Serial-specific style estimator block */\n",
       "\n",
       "#sk-container-id-2 div.sk-serial {\n",
       "  display: flex;\n",
       "  flex-direction: column;\n",
       "  align-items: center;\n",
       "  background-color: var(--sklearn-color-background);\n",
       "  padding-right: 1em;\n",
       "  padding-left: 1em;\n",
       "}\n",
       "\n",
       "\n",
       "/* Toggleable style: style used for estimator/Pipeline/ColumnTransformer box that is\n",
       "clickable and can be expanded/collapsed.\n",
       "- Pipeline and ColumnTransformer use this feature and define the default style\n",
       "- Estimators will overwrite some part of the style using the `sk-estimator` class\n",
       "*/\n",
       "\n",
       "/* Pipeline and ColumnTransformer style (default) */\n",
       "\n",
       "#sk-container-id-2 div.sk-toggleable {\n",
       "  /* Default theme specific background. It is overwritten whether we have a\n",
       "  specific estimator or a Pipeline/ColumnTransformer */\n",
       "  background-color: var(--sklearn-color-background);\n",
       "}\n",
       "\n",
       "/* Toggleable label */\n",
       "#sk-container-id-2 label.sk-toggleable__label {\n",
       "  cursor: pointer;\n",
       "  display: flex;\n",
       "  width: 100%;\n",
       "  margin-bottom: 0;\n",
       "  padding: 0.5em;\n",
       "  box-sizing: border-box;\n",
       "  text-align: center;\n",
       "  align-items: start;\n",
       "  justify-content: space-between;\n",
       "  gap: 0.5em;\n",
       "}\n",
       "\n",
       "#sk-container-id-2 label.sk-toggleable__label .caption {\n",
       "  font-size: 0.6rem;\n",
       "  font-weight: lighter;\n",
       "  color: var(--sklearn-color-text-muted);\n",
       "}\n",
       "\n",
       "#sk-container-id-2 label.sk-toggleable__label-arrow:before {\n",
       "  /* Arrow on the left of the label */\n",
       "  content: \"▸\";\n",
       "  float: left;\n",
       "  margin-right: 0.25em;\n",
       "  color: var(--sklearn-color-icon);\n",
       "}\n",
       "\n",
       "#sk-container-id-2 label.sk-toggleable__label-arrow:hover:before {\n",
       "  color: var(--sklearn-color-text);\n",
       "}\n",
       "\n",
       "/* Toggleable content - dropdown */\n",
       "\n",
       "#sk-container-id-2 div.sk-toggleable__content {\n",
       "  max-height: 0;\n",
       "  max-width: 0;\n",
       "  overflow: hidden;\n",
       "  text-align: left;\n",
       "  /* unfitted */\n",
       "  background-color: var(--sklearn-color-unfitted-level-0);\n",
       "}\n",
       "\n",
       "#sk-container-id-2 div.sk-toggleable__content.fitted {\n",
       "  /* fitted */\n",
       "  background-color: var(--sklearn-color-fitted-level-0);\n",
       "}\n",
       "\n",
       "#sk-container-id-2 div.sk-toggleable__content pre {\n",
       "  margin: 0.2em;\n",
       "  border-radius: 0.25em;\n",
       "  color: var(--sklearn-color-text);\n",
       "  /* unfitted */\n",
       "  background-color: var(--sklearn-color-unfitted-level-0);\n",
       "}\n",
       "\n",
       "#sk-container-id-2 div.sk-toggleable__content.fitted pre {\n",
       "  /* unfitted */\n",
       "  background-color: var(--sklearn-color-fitted-level-0);\n",
       "}\n",
       "\n",
       "#sk-container-id-2 input.sk-toggleable__control:checked~div.sk-toggleable__content {\n",
       "  /* Expand drop-down */\n",
       "  max-height: 200px;\n",
       "  max-width: 100%;\n",
       "  overflow: auto;\n",
       "}\n",
       "\n",
       "#sk-container-id-2 input.sk-toggleable__control:checked~label.sk-toggleable__label-arrow:before {\n",
       "  content: \"▾\";\n",
       "}\n",
       "\n",
       "/* Pipeline/ColumnTransformer-specific style */\n",
       "\n",
       "#sk-container-id-2 div.sk-label input.sk-toggleable__control:checked~label.sk-toggleable__label {\n",
       "  color: var(--sklearn-color-text);\n",
       "  background-color: var(--sklearn-color-unfitted-level-2);\n",
       "}\n",
       "\n",
       "#sk-container-id-2 div.sk-label.fitted input.sk-toggleable__control:checked~label.sk-toggleable__label {\n",
       "  background-color: var(--sklearn-color-fitted-level-2);\n",
       "}\n",
       "\n",
       "/* Estimator-specific style */\n",
       "\n",
       "/* Colorize estimator box */\n",
       "#sk-container-id-2 div.sk-estimator input.sk-toggleable__control:checked~label.sk-toggleable__label {\n",
       "  /* unfitted */\n",
       "  background-color: var(--sklearn-color-unfitted-level-2);\n",
       "}\n",
       "\n",
       "#sk-container-id-2 div.sk-estimator.fitted input.sk-toggleable__control:checked~label.sk-toggleable__label {\n",
       "  /* fitted */\n",
       "  background-color: var(--sklearn-color-fitted-level-2);\n",
       "}\n",
       "\n",
       "#sk-container-id-2 div.sk-label label.sk-toggleable__label,\n",
       "#sk-container-id-2 div.sk-label label {\n",
       "  /* The background is the default theme color */\n",
       "  color: var(--sklearn-color-text-on-default-background);\n",
       "}\n",
       "\n",
       "/* On hover, darken the color of the background */\n",
       "#sk-container-id-2 div.sk-label:hover label.sk-toggleable__label {\n",
       "  color: var(--sklearn-color-text);\n",
       "  background-color: var(--sklearn-color-unfitted-level-2);\n",
       "}\n",
       "\n",
       "/* Label box, darken color on hover, fitted */\n",
       "#sk-container-id-2 div.sk-label.fitted:hover label.sk-toggleable__label.fitted {\n",
       "  color: var(--sklearn-color-text);\n",
       "  background-color: var(--sklearn-color-fitted-level-2);\n",
       "}\n",
       "\n",
       "/* Estimator label */\n",
       "\n",
       "#sk-container-id-2 div.sk-label label {\n",
       "  font-family: monospace;\n",
       "  font-weight: bold;\n",
       "  display: inline-block;\n",
       "  line-height: 1.2em;\n",
       "}\n",
       "\n",
       "#sk-container-id-2 div.sk-label-container {\n",
       "  text-align: center;\n",
       "}\n",
       "\n",
       "/* Estimator-specific */\n",
       "#sk-container-id-2 div.sk-estimator {\n",
       "  font-family: monospace;\n",
       "  border: 1px dotted var(--sklearn-color-border-box);\n",
       "  border-radius: 0.25em;\n",
       "  box-sizing: border-box;\n",
       "  margin-bottom: 0.5em;\n",
       "  /* unfitted */\n",
       "  background-color: var(--sklearn-color-unfitted-level-0);\n",
       "}\n",
       "\n",
       "#sk-container-id-2 div.sk-estimator.fitted {\n",
       "  /* fitted */\n",
       "  background-color: var(--sklearn-color-fitted-level-0);\n",
       "}\n",
       "\n",
       "/* on hover */\n",
       "#sk-container-id-2 div.sk-estimator:hover {\n",
       "  /* unfitted */\n",
       "  background-color: var(--sklearn-color-unfitted-level-2);\n",
       "}\n",
       "\n",
       "#sk-container-id-2 div.sk-estimator.fitted:hover {\n",
       "  /* fitted */\n",
       "  background-color: var(--sklearn-color-fitted-level-2);\n",
       "}\n",
       "\n",
       "/* Specification for estimator info (e.g. \"i\" and \"?\") */\n",
       "\n",
       "/* Common style for \"i\" and \"?\" */\n",
       "\n",
       ".sk-estimator-doc-link,\n",
       "a:link.sk-estimator-doc-link,\n",
       "a:visited.sk-estimator-doc-link {\n",
       "  float: right;\n",
       "  font-size: smaller;\n",
       "  line-height: 1em;\n",
       "  font-family: monospace;\n",
       "  background-color: var(--sklearn-color-background);\n",
       "  border-radius: 1em;\n",
       "  height: 1em;\n",
       "  width: 1em;\n",
       "  text-decoration: none !important;\n",
       "  margin-left: 0.5em;\n",
       "  text-align: center;\n",
       "  /* unfitted */\n",
       "  border: var(--sklearn-color-unfitted-level-1) 1pt solid;\n",
       "  color: var(--sklearn-color-unfitted-level-1);\n",
       "}\n",
       "\n",
       ".sk-estimator-doc-link.fitted,\n",
       "a:link.sk-estimator-doc-link.fitted,\n",
       "a:visited.sk-estimator-doc-link.fitted {\n",
       "  /* fitted */\n",
       "  border: var(--sklearn-color-fitted-level-1) 1pt solid;\n",
       "  color: var(--sklearn-color-fitted-level-1);\n",
       "}\n",
       "\n",
       "/* On hover */\n",
       "div.sk-estimator:hover .sk-estimator-doc-link:hover,\n",
       ".sk-estimator-doc-link:hover,\n",
       "div.sk-label-container:hover .sk-estimator-doc-link:hover,\n",
       ".sk-estimator-doc-link:hover {\n",
       "  /* unfitted */\n",
       "  background-color: var(--sklearn-color-unfitted-level-3);\n",
       "  color: var(--sklearn-color-background);\n",
       "  text-decoration: none;\n",
       "}\n",
       "\n",
       "div.sk-estimator.fitted:hover .sk-estimator-doc-link.fitted:hover,\n",
       ".sk-estimator-doc-link.fitted:hover,\n",
       "div.sk-label-container:hover .sk-estimator-doc-link.fitted:hover,\n",
       ".sk-estimator-doc-link.fitted:hover {\n",
       "  /* fitted */\n",
       "  background-color: var(--sklearn-color-fitted-level-3);\n",
       "  color: var(--sklearn-color-background);\n",
       "  text-decoration: none;\n",
       "}\n",
       "\n",
       "/* Span, style for the box shown on hovering the info icon */\n",
       ".sk-estimator-doc-link span {\n",
       "  display: none;\n",
       "  z-index: 9999;\n",
       "  position: relative;\n",
       "  font-weight: normal;\n",
       "  right: .2ex;\n",
       "  padding: .5ex;\n",
       "  margin: .5ex;\n",
       "  width: min-content;\n",
       "  min-width: 20ex;\n",
       "  max-width: 50ex;\n",
       "  color: var(--sklearn-color-text);\n",
       "  box-shadow: 2pt 2pt 4pt #999;\n",
       "  /* unfitted */\n",
       "  background: var(--sklearn-color-unfitted-level-0);\n",
       "  border: .5pt solid var(--sklearn-color-unfitted-level-3);\n",
       "}\n",
       "\n",
       ".sk-estimator-doc-link.fitted span {\n",
       "  /* fitted */\n",
       "  background: var(--sklearn-color-fitted-level-0);\n",
       "  border: var(--sklearn-color-fitted-level-3);\n",
       "}\n",
       "\n",
       ".sk-estimator-doc-link:hover span {\n",
       "  display: block;\n",
       "}\n",
       "\n",
       "/* \"?\"-specific style due to the `<a>` HTML tag */\n",
       "\n",
       "#sk-container-id-2 a.estimator_doc_link {\n",
       "  float: right;\n",
       "  font-size: 1rem;\n",
       "  line-height: 1em;\n",
       "  font-family: monospace;\n",
       "  background-color: var(--sklearn-color-background);\n",
       "  border-radius: 1rem;\n",
       "  height: 1rem;\n",
       "  width: 1rem;\n",
       "  text-decoration: none;\n",
       "  /* unfitted */\n",
       "  color: var(--sklearn-color-unfitted-level-1);\n",
       "  border: var(--sklearn-color-unfitted-level-1) 1pt solid;\n",
       "}\n",
       "\n",
       "#sk-container-id-2 a.estimator_doc_link.fitted {\n",
       "  /* fitted */\n",
       "  border: var(--sklearn-color-fitted-level-1) 1pt solid;\n",
       "  color: var(--sklearn-color-fitted-level-1);\n",
       "}\n",
       "\n",
       "/* On hover */\n",
       "#sk-container-id-2 a.estimator_doc_link:hover {\n",
       "  /* unfitted */\n",
       "  background-color: var(--sklearn-color-unfitted-level-3);\n",
       "  color: var(--sklearn-color-background);\n",
       "  text-decoration: none;\n",
       "}\n",
       "\n",
       "#sk-container-id-2 a.estimator_doc_link.fitted:hover {\n",
       "  /* fitted */\n",
       "  background-color: var(--sklearn-color-fitted-level-3);\n",
       "}\n",
       "</style><div id=\"sk-container-id-2\" class=\"sk-top-container\"><div class=\"sk-text-repr-fallback\"><pre>RandomForestRegressor(random_state=20)</pre><b>In a Jupyter environment, please rerun this cell to show the HTML representation or trust the notebook. <br />On GitHub, the HTML representation is unable to render, please try loading this page with nbviewer.org.</b></div><div class=\"sk-container\" hidden><div class=\"sk-item\"><div class=\"sk-estimator fitted sk-toggleable\"><input class=\"sk-toggleable__control sk-hidden--visually\" id=\"sk-estimator-id-2\" type=\"checkbox\" checked><label for=\"sk-estimator-id-2\" class=\"sk-toggleable__label fitted sk-toggleable__label-arrow\"><div><div>RandomForestRegressor</div></div><div><a class=\"sk-estimator-doc-link fitted\" rel=\"noreferrer\" target=\"_blank\" href=\"https://scikit-learn.org/1.6/modules/generated/sklearn.ensemble.RandomForestRegressor.html\">?<span>Documentation for RandomForestRegressor</span></a><span class=\"sk-estimator-doc-link fitted\">i<span>Fitted</span></span></div></label><div class=\"sk-toggleable__content fitted\"><pre>RandomForestRegressor(random_state=20)</pre></div> </div></div></div></div>"
      ],
      "text/plain": [
       "RandomForestRegressor(random_state=20)"
      ]
     },
     "execution_count": 58,
     "metadata": {},
     "output_type": "execute_result"
    }
   ],
   "source": [
    "# Random Forest Regressor\n",
    "from sklearn.ensemble import RandomForestRegressor\n",
    "\n",
    "# Use random seed number\n",
    "random_seed_num= 20\n",
    "\n",
    "# Initialize and fit the model\n",
    "rf = RandomForestRegressor(random_state=random_seed_num)\n",
    "rf.fit(X_train, y_train)\n",
    "\n"
   ]
  },
  {
   "cell_type": "code",
   "execution_count": 59,
   "id": "00db8578-8f4d-493a-ab88-6c2cf57a38de",
   "metadata": {},
   "outputs": [
    {
     "name": "stdout",
     "output_type": "stream",
     "text": [
      "Training Performance:\n",
      "\n",
      "Random Forest - MSE: 742301.79\n",
      "Random Forest - R²:  0.994\n",
      "\n",
      "\n",
      "Test Performance:\n",
      "\n",
      "Random Forest - MSE: 5168196.21\n",
      "Random Forest - R²:  0.956\n",
      "Random Forest - MAE: 1135.96\n"
     ]
    }
   ],
   "source": [
    "#import evaluation metrics\n",
    "from sklearn.metrics import mean_absolute_error, r2_score, mean_squared_error\n",
    "\n",
    "# Predict on train and test sets\n",
    "rf_preds_train = rf.predict(X_train)\n",
    "rf_preds_test = rf.predict(X_test)\n",
    "\n",
    "print(\"Training Performance:\\n\")\n",
    "print(\"Random Forest - MSE: %0.2f\" % mean_squared_error(y_train, rf_preds_train))\n",
    "print(\"Random Forest - R²:  %0.3f\" % r2_score(y_train, rf_preds_train))\n",
    "\n",
    "print(\"\\n\")\n",
    "\n",
    "print(\"Test Performance:\\n\")\n",
    "print(\"Random Forest - MSE: %0.2f\" % mean_squared_error(y_test, rf_preds_test))\n",
    "print(\"Random Forest - R²:  %0.3f\" % r2_score(y_test, rf_preds_test))\n",
    "print(\"Random Forest - MAE: %0.2f\" % mean_absolute_error(y_test, rf_preds_test))\n"
   ]
  },
  {
   "cell_type": "markdown",
   "id": "ab1ef680-650f-4d0f-b338-83255bad6c0f",
   "metadata": {},
   "source": [
    "The model explains over 95% of the variation in car prices and keeps average prediction errors within €1,200, which is excellent for pricing second-hand vehicles.\n",
    "The low MSE confirms strong consistency and low variance, even across complex or high-dimensional inputs. This stability comes from the ensemble structure, where many decision trees vote together to reduce overfitting."
   ]
  },
  {
   "cell_type": "markdown",
   "id": "5ce959f1-751f-44d4-bd97-2da21009cc98",
   "metadata": {},
   "source": [
    "### Question 3. \n",
    "**Select the best model and discuss the business insights derived from it. Identify the variables/features that are important for prediction and explore the potential reasons behind these findings. Your analysis should be well-reasoned and may include relevant business theories or evidence from existing literature to support your statements, alongside the empirical findings from the provided data**"
   ]
  },
  {
   "cell_type": "markdown",
   "id": "e607c934-ed14-4ef5-b653-67185991c667",
   "metadata": {},
   "source": [
    "Answer:\n",
    "\n",
    "Based on both training and test results, Random Forest was the strongest overall performer. It consistently delivered the best metrics across the board and achived:\n",
    "\n",
    "- Test R² = 0.956 highest among all models\n",
    "- MAE ≈ €1,135.96 lowest average error\n",
    "- MSE ≈ 5.2 million lowest overall prediction error\n",
    "\n",
    "To understand what drove the models predictions, I visualized the top 5 most important feature variable based on their effect on our taget variable `price`"
   ]
  },
  {
   "cell_type": "code",
   "execution_count": 60,
   "id": "d85c1833-489c-4fef-94d9-8a97e3178b19",
   "metadata": {},
   "outputs": [
    {
     "data": {
      "image/png": "[encoded data removed]",
      "text/plain": [
       "<Figure size 800x500 with 1 Axes>"
      ]
     },
     "metadata": {},
     "output_type": "display_data"
    }
   ],
   "source": [
    "# Extract and visualize top 5 most important features from Random Forest\n",
    "rf_top = pd.Series(rf.feature_importances_, index=X_train.columns).sort_values(ascending=False).head(5)\n",
    "\n",
    "# import library \n",
    "import matplotlib.pyplot as plt\n",
    "\n",
    "# Plot a horizontal bar chart showing the top 5 features ranked by importance\n",
    "plt.figure(figsize=(8, 5))\n",
    "rf_top.plot(kind=\"barh\")\n",
    "plt.title(\"Top 5 Most Important Features (Random Forest)\")\n",
    "plt.xlabel(\"Feature Importance Score\")\n",
    "plt.ylabel(\"Feature variabels\")\n",
    "plt.tight_layout()\n",
    "\n"
   ]
  },
  {
   "cell_type": "markdown",
   "id": "1c7555b4-c231-4ebf-880a-af21c0e33622",
   "metadata": {},
   "source": [
    "The two most important features `reg_year` and `engine_size` contributed over 85% of the models predictive logic. This confirms that vehicle age and engin type are the main drivers of used car prices.\n",
    "\n",
    "The next most important feature was `runned_miles`, which ranked third in importance, while `maker_Land Rover` and `bodytype_SUV` had smaller influence on  `price`.\n",
    "\n",
    "These findings align with well known patterns for car prices. Newer cars is less discounted and holds higher value, droven miles depreciate car value and larger engines are often linked to premium car prices. This alignment with actual market behavior gives the model credibility to support business decisions.\n",
    "\n",
    "**From a business perspective, these insights enable data driven strategies and unlock new ways to improve decision making:**\n",
    "\n",
    "For example, a car dealership could use this model to set prices more accurately. If they know a vehicle has a newer registration year and a larger engine, they can price it at the higher end of the range. On the other hand, older cars with high mileage may need discounts or different marketing approaches to sell.\n",
    "\n",
    "The insights also help with stock planning. A dealership might focus on trading newer cars with larger engines, especially if there is a product market fit regarding time pr sale and profit margins. \n",
    "\n",
    "Another strong use case would be for online platforms to integrate the model into their website. This could add real value by helping users list their vehicles at fair, competitive prices \n",
    "\n",
    "Lastly, even though Random Forest is a complex model, it still gives enough transparency to see which features matter most. This helps business teams explain pricing decisions to customers or internal managers without needing to go deep into the technical side.\n",
    "\n",
    "Lastly, even though Random Forest is a complex model, it still gives enough transparency to see which features matter most. That makes it easier for businesses to understand and explain the price flucuations to their customers."
   ]
  }
 ],
 "metadata": {
  "kernelspec": {
   "display_name": "Python [conda env:base] *",
   "language": "python",
   "name": "conda-base-py"
  },
  "language_info": {
   "codemirror_mode": {
    "name": "ipython",
    "version": 3
   },
   "file_extension": ".py",
   "mimetype": "text/x-python",
   "name": "python",
   "nbconvert_exporter": "python",
   "pygments_lexer": "ipython3",
   "version": "3.13.5"
  }
 },
 "nbformat": 4,
 "nbformat_minor": 5
}
